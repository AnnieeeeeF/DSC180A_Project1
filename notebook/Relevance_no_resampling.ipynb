{
 "cells": [
  {
   "cell_type": "code",
   "execution_count": 1,
   "id": "cb3b6f38",
   "metadata": {},
   "outputs": [],
   "source": [
    "import numpy as np\n",
    "import pandas as pd\n",
    "import warnings\n",
    "import matplotlib.pyplot as plt\n",
    "import math\n",
    "\n",
    "from nltk.tokenize import word_tokenize\n",
    "from nltk.corpus import stopwords\n",
    "from gensim.models.doc2vec import Doc2Vec, TaggedDocument\n",
    "\n",
    "from sklearn.linear_model import LogisticRegression\n",
    "from sklearn.model_selection import train_test_split\n",
    "from sklearn.tree import DecisionTreeClassifier, DecisionTreeRegressor\n",
    "from sklearn.ensemble import RandomForestClassifier\n",
    "from sklearn import preprocessing\n",
    "from sklearn.feature_extraction.text import HashingVectorizer\n",
    "from sklearn.metrics import confusion_matrix,ConfusionMatrixDisplay, roc_curve\n",
    "from sklearn import utils, svm\n",
    "from sklearn.model_selection import GridSearchCV\n",
    "from sklearn.linear_model import LinearRegression\n",
    "from sklearn.metrics import mean_squared_error\n",
    "from sklearn.pipeline import Pipeline\n",
    "from sklearn.feature_extraction.text import TfidfVectorizer\n",
    "from sklearn.naive_bayes import BernoulliNB"
   ]
  },
  {
   "cell_type": "code",
   "execution_count": 2,
   "id": "3fd21768",
   "metadata": {},
   "outputs": [],
   "source": [
    "warnings.filterwarnings('ignore') # ignore warnings"
   ]
  },
  {
   "cell_type": "code",
   "execution_count": 3,
   "id": "31212cb8",
   "metadata": {},
   "outputs": [
    {
     "data": {
      "text/html": [
       "<div>\n",
       "<style scoped>\n",
       "    .dataframe tbody tr th:only-of-type {\n",
       "        vertical-align: middle;\n",
       "    }\n",
       "\n",
       "    .dataframe tbody tr th {\n",
       "        vertical-align: top;\n",
       "    }\n",
       "\n",
       "    .dataframe thead th {\n",
       "        text-align: right;\n",
       "    }\n",
       "</style>\n",
       "<table border=\"1\" class=\"dataframe\">\n",
       "  <thead>\n",
       "    <tr style=\"text-align: right;\">\n",
       "      <th></th>\n",
       "      <th>date</th>\n",
       "      <th>text</th>\n",
       "      <th>userid_str</th>\n",
       "      <th>status_id_str</th>\n",
       "      <th>id</th>\n",
       "      <th>name</th>\n",
       "      <th>birth</th>\n",
       "      <th>term_partisanship</th>\n",
       "      <th>term_type</th>\n",
       "      <th>term_state</th>\n",
       "      <th>country</th>\n",
       "      <th>Bucket</th>\n",
       "      <th>SentimentScore</th>\n",
       "      <th>version</th>\n",
       "    </tr>\n",
       "  </thead>\n",
       "  <tbody>\n",
       "    <tr>\n",
       "      <th>0</th>\n",
       "      <td>2015-09-28</td>\n",
       "      <td>I commend all of law enforcement for the secur...</td>\n",
       "      <td>156333623.0</td>\n",
       "      <td>6.485341e+17</td>\n",
       "      <td>3517566</td>\n",
       "      <td>Al Green</td>\n",
       "      <td>1947-09-01</td>\n",
       "      <td>Democrat</td>\n",
       "      <td>rep</td>\n",
       "      <td>rep</td>\n",
       "      <td>China</td>\n",
       "      <td>2 or 3</td>\n",
       "      <td>NaN</td>\n",
       "      <td>2019_batch1</td>\n",
       "    </tr>\n",
       "    <tr>\n",
       "      <th>1</th>\n",
       "      <td>2019-02-24</td>\n",
       "      <td>Socialist tyrant Maduro starves, tortures his ...</td>\n",
       "      <td>235312723.0</td>\n",
       "      <td>1.099734e+18</td>\n",
       "      <td>3559992</td>\n",
       "      <td>Scott DesJarlais</td>\n",
       "      <td>1964-02-21</td>\n",
       "      <td>Republican</td>\n",
       "      <td>rep</td>\n",
       "      <td>rep</td>\n",
       "      <td>China</td>\n",
       "      <td>1</td>\n",
       "      <td>2.0</td>\n",
       "      <td>2019_batch1</td>\n",
       "    </tr>\n",
       "    <tr>\n",
       "      <th>2</th>\n",
       "      <td>2019-02-24</td>\n",
       "      <td>Socialist tyrant Maduro starves, tortures his ...</td>\n",
       "      <td>235312723.0</td>\n",
       "      <td>1.099734e+18</td>\n",
       "      <td>3559992</td>\n",
       "      <td>Scott DesJarlais</td>\n",
       "      <td>1964-02-21</td>\n",
       "      <td>Republican</td>\n",
       "      <td>rep</td>\n",
       "      <td>rep</td>\n",
       "      <td>Iran</td>\n",
       "      <td>2 or 3</td>\n",
       "      <td>NaN</td>\n",
       "      <td>2019_batch1</td>\n",
       "    </tr>\n",
       "    <tr>\n",
       "      <th>3</th>\n",
       "      <td>2014-06-24</td>\n",
       "      <td>Inhofe: The Canadians have already had convers...</td>\n",
       "      <td>20546536.0</td>\n",
       "      <td>4.815273e+17</td>\n",
       "      <td>3468157</td>\n",
       "      <td>James M. Inhofe</td>\n",
       "      <td>1934-11-17</td>\n",
       "      <td>Republican</td>\n",
       "      <td>sen</td>\n",
       "      <td>sen</td>\n",
       "      <td>Canada</td>\n",
       "      <td>2 or 3</td>\n",
       "      <td>NaN</td>\n",
       "      <td>2019_batch1</td>\n",
       "    </tr>\n",
       "    <tr>\n",
       "      <th>4</th>\n",
       "      <td>2015-07-14</td>\n",
       "      <td>Statement on Iran nuclear agreement. http://t....</td>\n",
       "      <td>18773159.0</td>\n",
       "      <td>6.210401e+17</td>\n",
       "      <td>3833428</td>\n",
       "      <td>Scott Perry</td>\n",
       "      <td>1962-05-27</td>\n",
       "      <td>Republican</td>\n",
       "      <td>rep</td>\n",
       "      <td>rep</td>\n",
       "      <td>Iran</td>\n",
       "      <td>2 or 3</td>\n",
       "      <td>NaN</td>\n",
       "      <td>2019_batch1</td>\n",
       "    </tr>\n",
       "  </tbody>\n",
       "</table>\n",
       "</div>"
      ],
      "text/plain": [
       "         date                                               text   userid_str  \\\n",
       "0  2015-09-28  I commend all of law enforcement for the secur...  156333623.0   \n",
       "1  2019-02-24  Socialist tyrant Maduro starves, tortures his ...  235312723.0   \n",
       "2  2019-02-24  Socialist tyrant Maduro starves, tortures his ...  235312723.0   \n",
       "3  2014-06-24  Inhofe: The Canadians have already had convers...   20546536.0   \n",
       "4  2015-07-14  Statement on Iran nuclear agreement. http://t....   18773159.0   \n",
       "\n",
       "   status_id_str       id              name       birth term_partisanship  \\\n",
       "0   6.485341e+17  3517566          Al Green  1947-09-01          Democrat   \n",
       "1   1.099734e+18  3559992  Scott DesJarlais  1964-02-21        Republican   \n",
       "2   1.099734e+18  3559992  Scott DesJarlais  1964-02-21        Republican   \n",
       "3   4.815273e+17  3468157   James M. Inhofe  1934-11-17        Republican   \n",
       "4   6.210401e+17  3833428       Scott Perry  1962-05-27        Republican   \n",
       "\n",
       "  term_type term_state country  Bucket  SentimentScore      version  \n",
       "0       rep        rep   China  2 or 3             NaN  2019_batch1  \n",
       "1       rep        rep   China       1             2.0  2019_batch1  \n",
       "2       rep        rep    Iran  2 or 3             NaN  2019_batch1  \n",
       "3       sen        sen  Canada  2 or 3             NaN  2019_batch1  \n",
       "4       rep        rep    Iran  2 or 3             NaN  2019_batch1  "
      ]
     },
     "execution_count": 3,
     "metadata": {},
     "output_type": "execute_result"
    }
   ],
   "source": [
    "df_raw = pd.read_csv('SentimentLabeled_10112022.csv')\n",
    "df = df_raw.drop_duplicates()\n",
    "\n",
    "# remove {} from columns\n",
    "df['term_partisanship'] = df['term_partisanship'].str.strip('{}')\n",
    "df['term_type'] = df['term_type'].str.strip('{}')\n",
    "df['term_state'] = df['term_type'].str.strip('{}')\n",
    "\n",
    "# Clean bucket column\n",
    "df['Bucket'] = df['Bucket'].replace({'1.0':'1', '2.0':'2', '3.0':'3'})\n",
    "\n",
    "# filter out rows with abonormal sentiment score\n",
    "df = df[(df['SentimentScore'] <= 5) | (df['SentimentScore'].isnull())]\n",
    "\n",
    "df.head()"
   ]
  },
  {
   "cell_type": "markdown",
   "id": "e90107f6",
   "metadata": {},
   "source": [
    "## Feature Engineering 1 (Doc2Vec)"
   ]
  },
  {
   "cell_type": "code",
   "execution_count": 4,
   "id": "0ab20286",
   "metadata": {},
   "outputs": [],
   "source": [
    "feats1 = df[df['country'] == 'China'][['text']]\n",
    "feats1['Bucket_1'] = (df['Bucket'] == '1') # target column: boolean value of whether a tweet belongs to bucket 1\n",
    "# texts['num_word'] = texts['text'].str.split().apply(len) # number of words in a tweet"
   ]
  },
  {
   "cell_type": "code",
   "execution_count": 5,
   "id": "e5c21133",
   "metadata": {},
   "outputs": [
    {
     "data": {
      "text/plain": [
       "0.7358203916272789"
      ]
     },
     "execution_count": 5,
     "metadata": {},
     "output_type": "execute_result"
    }
   ],
   "source": [
    "(feats1['Bucket_1'] == 1).mean()"
   ]
  },
  {
   "cell_type": "code",
   "execution_count": 6,
   "id": "1e368eaf",
   "metadata": {},
   "outputs": [],
   "source": [
    "text_tokenized = feats1['text'].apply(word_tokenize) #tokenize each tweet\n",
    "tagged_text = [TaggedDocument(d,[i]) for i, d in enumerate(text_tokenized)] #tag sentence corpus\n",
    "d2v_model = Doc2Vec(tagged_text, vector_size=30, window=2, min_count=1, epochs=100) #train Doc2Vec model"
   ]
  },
  {
   "cell_type": "code",
   "execution_count": 7,
   "id": "2ec0ca75",
   "metadata": {},
   "outputs": [],
   "source": [
    "feats1['text_vector'] = text_tokenized.apply(d2v_model.infer_vector) # convert text to vectors of length 20"
   ]
  },
  {
   "cell_type": "code",
   "execution_count": 8,
   "id": "b9068c8b",
   "metadata": {},
   "outputs": [],
   "source": [
    "feats1['text_vector'] = feats1['text_vector'].apply(lambda x: list(x))\n",
    "feats1[list(range(1,31))] = pd.DataFrame(feats1['text_vector'].tolist(), index= feats1.index)"
   ]
  },
  {
   "cell_type": "code",
   "execution_count": 9,
   "id": "7e9683bb",
   "metadata": {},
   "outputs": [],
   "source": [
    "feats1 = feats1.drop(['text_vector'], axis = 1)"
   ]
  },
  {
   "cell_type": "markdown",
   "id": "9234cd79",
   "metadata": {},
   "source": [
    "## SVM"
   ]
  },
  {
   "cell_type": "code",
   "execution_count": 10,
   "id": "c15f89bf",
   "metadata": {},
   "outputs": [],
   "source": [
    "training, testing = train_test_split(feats1, test_size=0.25, random_state=25)\n",
    "train_y = training['Bucket_1']\n",
    "train_X = training.drop(['text', 'Bucket_1'], axis = 1)\n",
    "test_y = testing['Bucket_1']\n",
    "test_X = testing.drop(['text', 'Bucket_1'], axis = 1)"
   ]
  },
  {
   "cell_type": "code",
   "execution_count": 41,
   "id": "7bb03c4a",
   "metadata": {},
   "outputs": [],
   "source": [
    "svc = svm.SVC(C=10, gamma=0.01, kernel='rbf', probability=True).fit(train_X, train_y)"
   ]
  },
  {
   "cell_type": "code",
   "execution_count": 42,
   "id": "c04f1548",
   "metadata": {},
   "outputs": [
    {
     "data": {
      "text/plain": [
       "0.8158901643033986"
      ]
     },
     "execution_count": 42,
     "metadata": {},
     "output_type": "execute_result"
    }
   ],
   "source": [
    "svc.score(train_X, train_y)"
   ]
  },
  {
   "cell_type": "code",
   "execution_count": 43,
   "id": "a30f6be2",
   "metadata": {},
   "outputs": [
    {
     "name": "stdout",
     "output_type": "stream",
     "text": [
      "0.7741390952059419 0.7897301349325337 0.9512415349887133 0.8629940610280566\n"
     ]
    }
   ],
   "source": [
    "y_pred = svc.predict(test_X)\n",
    "tn, fp, fn, tp = confusion_matrix(test_y, y_pred).ravel()\n",
    "accuracy = (tn + tp)/(tn + fp + fn + tp)\n",
    "precision = tp / (tp + fp)\n",
    "recall = tp / (tp + fn)\n",
    "f1 = 2 * precision * recall / (precision + recall)\n",
    "print(accuracy, precision, recall, f1)"
   ]
  },
  {
   "cell_type": "code",
   "execution_count": 14,
   "id": "9a56dd77",
   "metadata": {},
   "outputs": [],
   "source": [
    "def conf_matrix(y,pred):\n",
    "    ((tn, fp), (fn, tp)) = confusion_matrix(y, pred)\n",
    "    ((tnr,fpr),(fnr,tpr))= confusion_matrix(y, pred, \n",
    "            normalize='true')\n",
    "    return pd.DataFrame([[f'TN = {tn} (TNR = {tnr:1.2%})', \n",
    "                                f'FP = {fp} (FPR = {fpr:1.2%})'], \n",
    "                         [f'FN = {fn} (FNR = {fnr:1.2%})', \n",
    "                                f'TP = {tp} (TPR = {tpr:1.2%})']],\n",
    "            index=['True 0', 'True 1'], \n",
    "            columns=['Pred 0', 'Pred 1'])"
   ]
  },
  {
   "cell_type": "code",
   "execution_count": 15,
   "id": "c30f11ad",
   "metadata": {
    "scrolled": true
   },
   "outputs": [
    {
     "data": {
      "text/html": [
       "<div>\n",
       "<style scoped>\n",
       "    .dataframe tbody tr th:only-of-type {\n",
       "        vertical-align: middle;\n",
       "    }\n",
       "\n",
       "    .dataframe tbody tr th {\n",
       "        vertical-align: top;\n",
       "    }\n",
       "\n",
       "    .dataframe thead th {\n",
       "        text-align: right;\n",
       "    }\n",
       "</style>\n",
       "<table border=\"1\" class=\"dataframe\">\n",
       "  <thead>\n",
       "    <tr style=\"text-align: right;\">\n",
       "      <th></th>\n",
       "      <th>Pred 0</th>\n",
       "      <th>Pred 1</th>\n",
       "    </tr>\n",
       "  </thead>\n",
       "  <tbody>\n",
       "    <tr>\n",
       "      <th>True 0</th>\n",
       "      <td>TN = 38 (TNR = 4.19%)</td>\n",
       "      <td>FP = 870 (FPR = 95.81%)</td>\n",
       "    </tr>\n",
       "    <tr>\n",
       "      <th>True 1</th>\n",
       "      <td>FN = 56 (FNR = 2.12%)</td>\n",
       "      <td>TP = 2591 (TPR = 97.88%)</td>\n",
       "    </tr>\n",
       "  </tbody>\n",
       "</table>\n",
       "</div>"
      ],
      "text/plain": [
       "                       Pred 0                    Pred 1\n",
       "True 0  TN = 38 (TNR = 4.19%)   FP = 870 (FPR = 95.81%)\n",
       "True 1  FN = 56 (FNR = 2.12%)  TP = 2591 (TPR = 97.88%)"
      ]
     },
     "execution_count": 15,
     "metadata": {},
     "output_type": "execute_result"
    }
   ],
   "source": [
    "conf_matrix(test_y, y_pred)"
   ]
  },
  {
   "cell_type": "code",
   "execution_count": 33,
   "id": "638ee904",
   "metadata": {},
   "outputs": [
    {
     "name": "stdout",
     "output_type": "stream",
     "text": [
      "{'C': 10, 'gamma': 0.01, 'kernel': 'rbf'}\n"
     ]
    }
   ],
   "source": [
    "print(grid_svm.best_params_)"
   ]
  },
  {
   "cell_type": "code",
   "execution_count": 16,
   "id": "0124e2e4",
   "metadata": {},
   "outputs": [],
   "source": [
    "prob_test=svm_tuned.predict_proba(test_X)[:,1]"
   ]
  },
  {
   "cell_type": "code",
   "execution_count": 17,
   "id": "d1dd155b",
   "metadata": {},
   "outputs": [],
   "source": [
    "fpr, tpr, thresholds = roc_curve(test_y, y_pred)"
   ]
  },
  {
   "cell_type": "code",
   "execution_count": 19,
   "id": "1b3f6e59",
   "metadata": {},
   "outputs": [
    {
     "data": {
      "text/html": [
       "<div>\n",
       "<style scoped>\n",
       "    .dataframe tbody tr th:only-of-type {\n",
       "        vertical-align: middle;\n",
       "    }\n",
       "\n",
       "    .dataframe tbody tr th {\n",
       "        vertical-align: top;\n",
       "    }\n",
       "\n",
       "    .dataframe thead th {\n",
       "        text-align: right;\n",
       "    }\n",
       "</style>\n",
       "<table border=\"1\" class=\"dataframe\">\n",
       "  <thead>\n",
       "    <tr style=\"text-align: right;\">\n",
       "      <th></th>\n",
       "      <th>Pred 0</th>\n",
       "      <th>Pred 1</th>\n",
       "    </tr>\n",
       "  </thead>\n",
       "  <tbody>\n",
       "    <tr>\n",
       "      <th>True 0</th>\n",
       "      <td>TN = 46 (TNR = 5.07%)</td>\n",
       "      <td>FP = 862 (FPR = 94.93%)</td>\n",
       "    </tr>\n",
       "    <tr>\n",
       "      <th>True 1</th>\n",
       "      <td>FN = 66 (FNR = 2.49%)</td>\n",
       "      <td>TP = 2581 (TPR = 97.51%)</td>\n",
       "    </tr>\n",
       "  </tbody>\n",
       "</table>\n",
       "</div>"
      ],
      "text/plain": [
       "                       Pred 0                    Pred 1\n",
       "True 0  TN = 46 (TNR = 5.07%)   FP = 862 (FPR = 94.93%)\n",
       "True 1  FN = 66 (FNR = 2.49%)  TP = 2581 (TPR = 97.51%)"
      ]
     },
     "execution_count": 19,
     "metadata": {},
     "output_type": "execute_result"
    }
   ],
   "source": [
    "ypred_thres = np.where(prob_test >= 0.732, True, False)\n",
    "conf_matrix(test_y, ypred_thres)"
   ]
  },
  {
   "cell_type": "code",
   "execution_count": 20,
   "id": "d195e474",
   "metadata": {},
   "outputs": [
    {
     "name": "stdout",
     "output_type": "stream",
     "text": [
      "0.7389592123769338 0.7496369445251234 0.9750661125802795 0.8476190476190476\n"
     ]
    }
   ],
   "source": [
    "tn, fp, fn, tp = confusion_matrix(test_y, ypred_thres).ravel()\n",
    "accuracy = (tn + tp)/(tn + fp + fn + tp)\n",
    "precision = tp / (tp + fp)\n",
    "recall = tp / (tp + fn)\n",
    "f1 = 2 * precision * recall / (precision + recall)\n",
    "print(accuracy, precision, recall, f1)"
   ]
  },
  {
   "cell_type": "code",
   "execution_count": 17,
   "id": "490a0c82",
   "metadata": {},
   "outputs": [
    {
     "ename": "ValueError",
     "evalue": "Found input variables with inconsistent numbers of samples: [1, 8886]",
     "output_type": "error",
     "traceback": [
      "\u001b[0;31m---------------------------------------------------------------------------\u001b[0m",
      "\u001b[0;31mValueError\u001b[0m                                Traceback (most recent call last)",
      "\u001b[0;32m/var/folders/yd/pwzpd40x5fv3bnb66_sxszy40000gn/T/ipykernel_2456/2948599134.py\u001b[0m in \u001b[0;36m<module>\u001b[0;34m\u001b[0m\n\u001b[1;32m      7\u001b[0m     \u001b[0;34m(\u001b[0m\u001b[0;34m'tfidf'\u001b[0m\u001b[0;34m,\u001b[0m \u001b[0mTfidfVectorizer\u001b[0m\u001b[0;34m(\u001b[0m\u001b[0mstop_words\u001b[0m \u001b[0;34m=\u001b[0m \u001b[0mstopword\u001b[0m\u001b[0;34m)\u001b[0m\u001b[0;34m)\u001b[0m\u001b[0;34m,\u001b[0m\u001b[0;34m\u001b[0m\u001b[0;34m\u001b[0m\u001b[0m\n\u001b[1;32m      8\u001b[0m     ('svm', svm.SVC(C=100, gamma=0.01, kernel='rbf', probability=True))])\n\u001b[0;32m----> 9\u001b[0;31m \u001b[0mpipe\u001b[0m\u001b[0;34m.\u001b[0m\u001b[0mfit\u001b[0m\u001b[0;34m(\u001b[0m\u001b[0mtrain_X1\u001b[0m\u001b[0;34m,\u001b[0m \u001b[0mtrain_y\u001b[0m\u001b[0;34m)\u001b[0m\u001b[0;34m\u001b[0m\u001b[0;34m\u001b[0m\u001b[0m\n\u001b[0m",
      "\u001b[0;32m/opt/anaconda3/lib/python3.9/site-packages/sklearn/pipeline.py\u001b[0m in \u001b[0;36mfit\u001b[0;34m(self, X, y, **fit_params)\u001b[0m\n\u001b[1;32m    380\u001b[0m             \u001b[0;32mif\u001b[0m \u001b[0mself\u001b[0m\u001b[0;34m.\u001b[0m\u001b[0m_final_estimator\u001b[0m \u001b[0;34m!=\u001b[0m \u001b[0;34m\"passthrough\"\u001b[0m\u001b[0;34m:\u001b[0m\u001b[0;34m\u001b[0m\u001b[0;34m\u001b[0m\u001b[0m\n\u001b[1;32m    381\u001b[0m                 \u001b[0mfit_params_last_step\u001b[0m \u001b[0;34m=\u001b[0m \u001b[0mfit_params_steps\u001b[0m\u001b[0;34m[\u001b[0m\u001b[0mself\u001b[0m\u001b[0;34m.\u001b[0m\u001b[0msteps\u001b[0m\u001b[0;34m[\u001b[0m\u001b[0;34m-\u001b[0m\u001b[0;36m1\u001b[0m\u001b[0;34m]\u001b[0m\u001b[0;34m[\u001b[0m\u001b[0;36m0\u001b[0m\u001b[0;34m]\u001b[0m\u001b[0;34m]\u001b[0m\u001b[0;34m\u001b[0m\u001b[0;34m\u001b[0m\u001b[0m\n\u001b[0;32m--> 382\u001b[0;31m                 \u001b[0mself\u001b[0m\u001b[0;34m.\u001b[0m\u001b[0m_final_estimator\u001b[0m\u001b[0;34m.\u001b[0m\u001b[0mfit\u001b[0m\u001b[0;34m(\u001b[0m\u001b[0mXt\u001b[0m\u001b[0;34m,\u001b[0m \u001b[0my\u001b[0m\u001b[0;34m,\u001b[0m \u001b[0;34m**\u001b[0m\u001b[0mfit_params_last_step\u001b[0m\u001b[0;34m)\u001b[0m\u001b[0;34m\u001b[0m\u001b[0;34m\u001b[0m\u001b[0m\n\u001b[0m\u001b[1;32m    383\u001b[0m \u001b[0;34m\u001b[0m\u001b[0m\n\u001b[1;32m    384\u001b[0m         \u001b[0;32mreturn\u001b[0m \u001b[0mself\u001b[0m\u001b[0;34m\u001b[0m\u001b[0;34m\u001b[0m\u001b[0m\n",
      "\u001b[0;32m/opt/anaconda3/lib/python3.9/site-packages/sklearn/svm/_base.py\u001b[0m in \u001b[0;36mfit\u001b[0;34m(self, X, y, sample_weight)\u001b[0m\n\u001b[1;32m    171\u001b[0m             \u001b[0mcheck_consistent_length\u001b[0m\u001b[0;34m(\u001b[0m\u001b[0mX\u001b[0m\u001b[0;34m,\u001b[0m \u001b[0my\u001b[0m\u001b[0;34m)\u001b[0m\u001b[0;34m\u001b[0m\u001b[0;34m\u001b[0m\u001b[0m\n\u001b[1;32m    172\u001b[0m         \u001b[0;32melse\u001b[0m\u001b[0;34m:\u001b[0m\u001b[0;34m\u001b[0m\u001b[0;34m\u001b[0m\u001b[0m\n\u001b[0;32m--> 173\u001b[0;31m             X, y = self._validate_data(\n\u001b[0m\u001b[1;32m    174\u001b[0m                 \u001b[0mX\u001b[0m\u001b[0;34m,\u001b[0m\u001b[0;34m\u001b[0m\u001b[0;34m\u001b[0m\u001b[0m\n\u001b[1;32m    175\u001b[0m                 \u001b[0my\u001b[0m\u001b[0;34m,\u001b[0m\u001b[0;34m\u001b[0m\u001b[0;34m\u001b[0m\u001b[0m\n",
      "\u001b[0;32m/opt/anaconda3/lib/python3.9/site-packages/sklearn/base.py\u001b[0m in \u001b[0;36m_validate_data\u001b[0;34m(self, X, y, reset, validate_separately, **check_params)\u001b[0m\n\u001b[1;32m    594\u001b[0m                 \u001b[0my\u001b[0m \u001b[0;34m=\u001b[0m \u001b[0mcheck_array\u001b[0m\u001b[0;34m(\u001b[0m\u001b[0my\u001b[0m\u001b[0;34m,\u001b[0m \u001b[0minput_name\u001b[0m\u001b[0;34m=\u001b[0m\u001b[0;34m\"y\"\u001b[0m\u001b[0;34m,\u001b[0m \u001b[0;34m**\u001b[0m\u001b[0mcheck_y_params\u001b[0m\u001b[0;34m)\u001b[0m\u001b[0;34m\u001b[0m\u001b[0;34m\u001b[0m\u001b[0m\n\u001b[1;32m    595\u001b[0m             \u001b[0;32melse\u001b[0m\u001b[0;34m:\u001b[0m\u001b[0;34m\u001b[0m\u001b[0;34m\u001b[0m\u001b[0m\n\u001b[0;32m--> 596\u001b[0;31m                 \u001b[0mX\u001b[0m\u001b[0;34m,\u001b[0m \u001b[0my\u001b[0m \u001b[0;34m=\u001b[0m \u001b[0mcheck_X_y\u001b[0m\u001b[0;34m(\u001b[0m\u001b[0mX\u001b[0m\u001b[0;34m,\u001b[0m \u001b[0my\u001b[0m\u001b[0;34m,\u001b[0m \u001b[0;34m**\u001b[0m\u001b[0mcheck_params\u001b[0m\u001b[0;34m)\u001b[0m\u001b[0;34m\u001b[0m\u001b[0;34m\u001b[0m\u001b[0m\n\u001b[0m\u001b[1;32m    597\u001b[0m             \u001b[0mout\u001b[0m \u001b[0;34m=\u001b[0m \u001b[0mX\u001b[0m\u001b[0;34m,\u001b[0m \u001b[0my\u001b[0m\u001b[0;34m\u001b[0m\u001b[0;34m\u001b[0m\u001b[0m\n\u001b[1;32m    598\u001b[0m \u001b[0;34m\u001b[0m\u001b[0m\n",
      "\u001b[0;32m/opt/anaconda3/lib/python3.9/site-packages/sklearn/utils/validation.py\u001b[0m in \u001b[0;36mcheck_X_y\u001b[0;34m(X, y, accept_sparse, accept_large_sparse, dtype, order, copy, force_all_finite, ensure_2d, allow_nd, multi_output, ensure_min_samples, ensure_min_features, y_numeric, estimator)\u001b[0m\n\u001b[1;32m   1090\u001b[0m     \u001b[0my\u001b[0m \u001b[0;34m=\u001b[0m \u001b[0m_check_y\u001b[0m\u001b[0;34m(\u001b[0m\u001b[0my\u001b[0m\u001b[0;34m,\u001b[0m \u001b[0mmulti_output\u001b[0m\u001b[0;34m=\u001b[0m\u001b[0mmulti_output\u001b[0m\u001b[0;34m,\u001b[0m \u001b[0my_numeric\u001b[0m\u001b[0;34m=\u001b[0m\u001b[0my_numeric\u001b[0m\u001b[0;34m,\u001b[0m \u001b[0mestimator\u001b[0m\u001b[0;34m=\u001b[0m\u001b[0mestimator\u001b[0m\u001b[0;34m)\u001b[0m\u001b[0;34m\u001b[0m\u001b[0;34m\u001b[0m\u001b[0m\n\u001b[1;32m   1091\u001b[0m \u001b[0;34m\u001b[0m\u001b[0m\n\u001b[0;32m-> 1092\u001b[0;31m     \u001b[0mcheck_consistent_length\u001b[0m\u001b[0;34m(\u001b[0m\u001b[0mX\u001b[0m\u001b[0;34m,\u001b[0m \u001b[0my\u001b[0m\u001b[0;34m)\u001b[0m\u001b[0;34m\u001b[0m\u001b[0;34m\u001b[0m\u001b[0m\n\u001b[0m\u001b[1;32m   1093\u001b[0m \u001b[0;34m\u001b[0m\u001b[0m\n\u001b[1;32m   1094\u001b[0m     \u001b[0;32mreturn\u001b[0m \u001b[0mX\u001b[0m\u001b[0;34m,\u001b[0m \u001b[0my\u001b[0m\u001b[0;34m\u001b[0m\u001b[0;34m\u001b[0m\u001b[0m\n",
      "\u001b[0;32m/opt/anaconda3/lib/python3.9/site-packages/sklearn/utils/validation.py\u001b[0m in \u001b[0;36mcheck_consistent_length\u001b[0;34m(*arrays)\u001b[0m\n\u001b[1;32m    385\u001b[0m     \u001b[0muniques\u001b[0m \u001b[0;34m=\u001b[0m \u001b[0mnp\u001b[0m\u001b[0;34m.\u001b[0m\u001b[0munique\u001b[0m\u001b[0;34m(\u001b[0m\u001b[0mlengths\u001b[0m\u001b[0;34m)\u001b[0m\u001b[0;34m\u001b[0m\u001b[0;34m\u001b[0m\u001b[0m\n\u001b[1;32m    386\u001b[0m     \u001b[0;32mif\u001b[0m \u001b[0mlen\u001b[0m\u001b[0;34m(\u001b[0m\u001b[0muniques\u001b[0m\u001b[0;34m)\u001b[0m \u001b[0;34m>\u001b[0m \u001b[0;36m1\u001b[0m\u001b[0;34m:\u001b[0m\u001b[0;34m\u001b[0m\u001b[0;34m\u001b[0m\u001b[0m\n\u001b[0;32m--> 387\u001b[0;31m         raise ValueError(\n\u001b[0m\u001b[1;32m    388\u001b[0m             \u001b[0;34m\"Found input variables with inconsistent numbers of samples: %r\"\u001b[0m\u001b[0;34m\u001b[0m\u001b[0;34m\u001b[0m\u001b[0m\n\u001b[1;32m    389\u001b[0m             \u001b[0;34m%\u001b[0m \u001b[0;34m[\u001b[0m\u001b[0mint\u001b[0m\u001b[0;34m(\u001b[0m\u001b[0ml\u001b[0m\u001b[0;34m)\u001b[0m \u001b[0;32mfor\u001b[0m \u001b[0ml\u001b[0m \u001b[0;32min\u001b[0m \u001b[0mlengths\u001b[0m\u001b[0;34m]\u001b[0m\u001b[0;34m\u001b[0m\u001b[0;34m\u001b[0m\u001b[0m\n",
      "\u001b[0;31mValueError\u001b[0m: Found input variables with inconsistent numbers of samples: [1, 8886]"
     ]
    }
   ],
   "source": [
    "###### with tfidf\n",
    "train_X1 = training[['text']].str.lower()\n",
    "test_X1 = testing[['text']].str.lower()\n",
    "\n",
    "stopword = stopwords.words('english')\n",
    "pipe = Pipeline([\n",
    "    ('tfidf', TfidfVectorizer(stop_words = stopword)),\n",
    "    ('svm', svm.SVC(C=100, gamma=0.01, kernel='rbf', probability=True))])\n",
    "pipe.fit(train_X1, train_y)"
   ]
  },
  {
   "cell_type": "code",
   "execution_count": 15,
   "id": "33a14074",
   "metadata": {},
   "outputs": [
    {
     "data": {
      "text/plain": [
       "(8886, 30)"
      ]
     },
     "execution_count": 15,
     "metadata": {},
     "output_type": "execute_result"
    }
   ],
   "source": [
    "train_X.shape"
   ]
  },
  {
   "cell_type": "code",
   "execution_count": 16,
   "id": "8e8cf78c",
   "metadata": {},
   "outputs": [
    {
     "data": {
      "text/html": [
       "<div>\n",
       "<style scoped>\n",
       "    .dataframe tbody tr th:only-of-type {\n",
       "        vertical-align: middle;\n",
       "    }\n",
       "\n",
       "    .dataframe tbody tr th {\n",
       "        vertical-align: top;\n",
       "    }\n",
       "\n",
       "    .dataframe thead th {\n",
       "        text-align: right;\n",
       "    }\n",
       "</style>\n",
       "<table border=\"1\" class=\"dataframe\">\n",
       "  <thead>\n",
       "    <tr style=\"text-align: right;\">\n",
       "      <th></th>\n",
       "      <th>1</th>\n",
       "      <th>2</th>\n",
       "      <th>3</th>\n",
       "      <th>4</th>\n",
       "      <th>5</th>\n",
       "      <th>6</th>\n",
       "      <th>7</th>\n",
       "      <th>8</th>\n",
       "      <th>9</th>\n",
       "      <th>10</th>\n",
       "      <th>...</th>\n",
       "      <th>21</th>\n",
       "      <th>22</th>\n",
       "      <th>23</th>\n",
       "      <th>24</th>\n",
       "      <th>25</th>\n",
       "      <th>26</th>\n",
       "      <th>27</th>\n",
       "      <th>28</th>\n",
       "      <th>29</th>\n",
       "      <th>30</th>\n",
       "    </tr>\n",
       "  </thead>\n",
       "  <tbody>\n",
       "    <tr>\n",
       "      <th>15301</th>\n",
       "      <td>-1.289430</td>\n",
       "      <td>-1.209546</td>\n",
       "      <td>2.042649</td>\n",
       "      <td>0.656167</td>\n",
       "      <td>1.120668</td>\n",
       "      <td>-1.517295</td>\n",
       "      <td>0.283924</td>\n",
       "      <td>-0.829098</td>\n",
       "      <td>-1.376278</td>\n",
       "      <td>-0.041185</td>\n",
       "      <td>...</td>\n",
       "      <td>-1.120096</td>\n",
       "      <td>-0.401588</td>\n",
       "      <td>1.195674</td>\n",
       "      <td>1.496003</td>\n",
       "      <td>0.613466</td>\n",
       "      <td>1.727026</td>\n",
       "      <td>-0.316908</td>\n",
       "      <td>2.717289</td>\n",
       "      <td>1.144872</td>\n",
       "      <td>-0.523642</td>\n",
       "    </tr>\n",
       "    <tr>\n",
       "      <th>7502</th>\n",
       "      <td>0.808763</td>\n",
       "      <td>0.393784</td>\n",
       "      <td>2.316195</td>\n",
       "      <td>-1.311673</td>\n",
       "      <td>-0.700674</td>\n",
       "      <td>0.810254</td>\n",
       "      <td>-0.174422</td>\n",
       "      <td>-0.908529</td>\n",
       "      <td>0.385117</td>\n",
       "      <td>0.849195</td>\n",
       "      <td>...</td>\n",
       "      <td>0.046759</td>\n",
       "      <td>-1.373943</td>\n",
       "      <td>0.664910</td>\n",
       "      <td>0.202147</td>\n",
       "      <td>0.359298</td>\n",
       "      <td>-0.078059</td>\n",
       "      <td>-0.127443</td>\n",
       "      <td>1.105441</td>\n",
       "      <td>2.317849</td>\n",
       "      <td>0.557104</td>\n",
       "    </tr>\n",
       "    <tr>\n",
       "      <th>851</th>\n",
       "      <td>0.533613</td>\n",
       "      <td>1.874624</td>\n",
       "      <td>1.110867</td>\n",
       "      <td>-0.231000</td>\n",
       "      <td>1.450825</td>\n",
       "      <td>1.876877</td>\n",
       "      <td>2.073741</td>\n",
       "      <td>-0.299521</td>\n",
       "      <td>1.309019</td>\n",
       "      <td>0.271638</td>\n",
       "      <td>...</td>\n",
       "      <td>1.082002</td>\n",
       "      <td>-1.426180</td>\n",
       "      <td>0.698518</td>\n",
       "      <td>1.242439</td>\n",
       "      <td>0.602408</td>\n",
       "      <td>0.188484</td>\n",
       "      <td>3.052398</td>\n",
       "      <td>-1.221592</td>\n",
       "      <td>1.548343</td>\n",
       "      <td>-1.869006</td>\n",
       "    </tr>\n",
       "    <tr>\n",
       "      <th>11359</th>\n",
       "      <td>1.139268</td>\n",
       "      <td>-0.484377</td>\n",
       "      <td>0.574848</td>\n",
       "      <td>1.254545</td>\n",
       "      <td>0.245701</td>\n",
       "      <td>-0.397150</td>\n",
       "      <td>1.858872</td>\n",
       "      <td>1.508130</td>\n",
       "      <td>-1.599751</td>\n",
       "      <td>-0.925676</td>\n",
       "      <td>...</td>\n",
       "      <td>0.598752</td>\n",
       "      <td>1.678811</td>\n",
       "      <td>-0.596155</td>\n",
       "      <td>3.304334</td>\n",
       "      <td>-1.091448</td>\n",
       "      <td>0.513954</td>\n",
       "      <td>0.544940</td>\n",
       "      <td>1.432108</td>\n",
       "      <td>-0.148844</td>\n",
       "      <td>-0.535941</td>\n",
       "    </tr>\n",
       "    <tr>\n",
       "      <th>6692</th>\n",
       "      <td>-0.093004</td>\n",
       "      <td>1.071921</td>\n",
       "      <td>0.406782</td>\n",
       "      <td>-1.885284</td>\n",
       "      <td>-2.129166</td>\n",
       "      <td>-0.543953</td>\n",
       "      <td>0.750004</td>\n",
       "      <td>2.597677</td>\n",
       "      <td>-1.581244</td>\n",
       "      <td>-0.325343</td>\n",
       "      <td>...</td>\n",
       "      <td>-1.675036</td>\n",
       "      <td>0.453804</td>\n",
       "      <td>0.896041</td>\n",
       "      <td>1.003501</td>\n",
       "      <td>-0.171556</td>\n",
       "      <td>-0.029186</td>\n",
       "      <td>0.100842</td>\n",
       "      <td>-0.581907</td>\n",
       "      <td>1.349542</td>\n",
       "      <td>-1.471108</td>\n",
       "    </tr>\n",
       "    <tr>\n",
       "      <th>...</th>\n",
       "      <td>...</td>\n",
       "      <td>...</td>\n",
       "      <td>...</td>\n",
       "      <td>...</td>\n",
       "      <td>...</td>\n",
       "      <td>...</td>\n",
       "      <td>...</td>\n",
       "      <td>...</td>\n",
       "      <td>...</td>\n",
       "      <td>...</td>\n",
       "      <td>...</td>\n",
       "      <td>...</td>\n",
       "      <td>...</td>\n",
       "      <td>...</td>\n",
       "      <td>...</td>\n",
       "      <td>...</td>\n",
       "      <td>...</td>\n",
       "      <td>...</td>\n",
       "      <td>...</td>\n",
       "      <td>...</td>\n",
       "      <td>...</td>\n",
       "    </tr>\n",
       "    <tr>\n",
       "      <th>11456</th>\n",
       "      <td>-1.628552</td>\n",
       "      <td>1.097441</td>\n",
       "      <td>1.320582</td>\n",
       "      <td>-0.274499</td>\n",
       "      <td>1.867674</td>\n",
       "      <td>-0.198036</td>\n",
       "      <td>0.347062</td>\n",
       "      <td>-0.715710</td>\n",
       "      <td>-1.024468</td>\n",
       "      <td>-1.058419</td>\n",
       "      <td>...</td>\n",
       "      <td>-0.055328</td>\n",
       "      <td>-0.478897</td>\n",
       "      <td>2.086361</td>\n",
       "      <td>2.363447</td>\n",
       "      <td>2.862122</td>\n",
       "      <td>-0.293090</td>\n",
       "      <td>-1.252920</td>\n",
       "      <td>0.472277</td>\n",
       "      <td>1.271678</td>\n",
       "      <td>0.050946</td>\n",
       "    </tr>\n",
       "    <tr>\n",
       "      <th>4711</th>\n",
       "      <td>-0.750244</td>\n",
       "      <td>0.260214</td>\n",
       "      <td>2.339224</td>\n",
       "      <td>-1.446182</td>\n",
       "      <td>0.166708</td>\n",
       "      <td>-0.298965</td>\n",
       "      <td>0.978298</td>\n",
       "      <td>-0.555668</td>\n",
       "      <td>0.551771</td>\n",
       "      <td>-0.888808</td>\n",
       "      <td>...</td>\n",
       "      <td>0.565831</td>\n",
       "      <td>-0.984204</td>\n",
       "      <td>-0.266516</td>\n",
       "      <td>1.577443</td>\n",
       "      <td>-0.138594</td>\n",
       "      <td>0.538887</td>\n",
       "      <td>0.848096</td>\n",
       "      <td>-1.254274</td>\n",
       "      <td>-0.575468</td>\n",
       "      <td>-0.955296</td>\n",
       "    </tr>\n",
       "    <tr>\n",
       "      <th>13854</th>\n",
       "      <td>0.887187</td>\n",
       "      <td>-0.406905</td>\n",
       "      <td>-0.195875</td>\n",
       "      <td>0.386963</td>\n",
       "      <td>0.229973</td>\n",
       "      <td>-1.151680</td>\n",
       "      <td>-0.895380</td>\n",
       "      <td>-0.978840</td>\n",
       "      <td>-0.766788</td>\n",
       "      <td>0.221061</td>\n",
       "      <td>...</td>\n",
       "      <td>-0.272770</td>\n",
       "      <td>-1.673250</td>\n",
       "      <td>-0.154956</td>\n",
       "      <td>0.846480</td>\n",
       "      <td>2.101977</td>\n",
       "      <td>-0.092535</td>\n",
       "      <td>-0.931773</td>\n",
       "      <td>1.669484</td>\n",
       "      <td>2.674504</td>\n",
       "      <td>-0.213896</td>\n",
       "    </tr>\n",
       "    <tr>\n",
       "      <th>9515</th>\n",
       "      <td>0.355341</td>\n",
       "      <td>0.559144</td>\n",
       "      <td>2.583841</td>\n",
       "      <td>-1.259426</td>\n",
       "      <td>0.212009</td>\n",
       "      <td>0.100969</td>\n",
       "      <td>1.249847</td>\n",
       "      <td>-1.415061</td>\n",
       "      <td>-0.483466</td>\n",
       "      <td>1.382175</td>\n",
       "      <td>...</td>\n",
       "      <td>-0.612853</td>\n",
       "      <td>-0.564931</td>\n",
       "      <td>2.287817</td>\n",
       "      <td>0.405738</td>\n",
       "      <td>0.701197</td>\n",
       "      <td>-1.446544</td>\n",
       "      <td>0.588175</td>\n",
       "      <td>0.689233</td>\n",
       "      <td>2.104477</td>\n",
       "      <td>-1.085895</td>\n",
       "    </tr>\n",
       "    <tr>\n",
       "      <th>11524</th>\n",
       "      <td>-0.158363</td>\n",
       "      <td>0.247716</td>\n",
       "      <td>0.179371</td>\n",
       "      <td>-0.643734</td>\n",
       "      <td>0.669295</td>\n",
       "      <td>1.440229</td>\n",
       "      <td>-0.294451</td>\n",
       "      <td>0.112304</td>\n",
       "      <td>-1.944773</td>\n",
       "      <td>-1.426557</td>\n",
       "      <td>...</td>\n",
       "      <td>-1.484698</td>\n",
       "      <td>0.230899</td>\n",
       "      <td>2.145256</td>\n",
       "      <td>0.629967</td>\n",
       "      <td>0.330100</td>\n",
       "      <td>2.922693</td>\n",
       "      <td>0.650751</td>\n",
       "      <td>-0.642203</td>\n",
       "      <td>-0.350086</td>\n",
       "      <td>-1.843320</td>\n",
       "    </tr>\n",
       "  </tbody>\n",
       "</table>\n",
       "<p>8886 rows × 30 columns</p>\n",
       "</div>"
      ],
      "text/plain": [
       "             1         2         3         4         5         6         7   \\\n",
       "15301 -1.289430 -1.209546  2.042649  0.656167  1.120668 -1.517295  0.283924   \n",
       "7502   0.808763  0.393784  2.316195 -1.311673 -0.700674  0.810254 -0.174422   \n",
       "851    0.533613  1.874624  1.110867 -0.231000  1.450825  1.876877  2.073741   \n",
       "11359  1.139268 -0.484377  0.574848  1.254545  0.245701 -0.397150  1.858872   \n",
       "6692  -0.093004  1.071921  0.406782 -1.885284 -2.129166 -0.543953  0.750004   \n",
       "...         ...       ...       ...       ...       ...       ...       ...   \n",
       "11456 -1.628552  1.097441  1.320582 -0.274499  1.867674 -0.198036  0.347062   \n",
       "4711  -0.750244  0.260214  2.339224 -1.446182  0.166708 -0.298965  0.978298   \n",
       "13854  0.887187 -0.406905 -0.195875  0.386963  0.229973 -1.151680 -0.895380   \n",
       "9515   0.355341  0.559144  2.583841 -1.259426  0.212009  0.100969  1.249847   \n",
       "11524 -0.158363  0.247716  0.179371 -0.643734  0.669295  1.440229 -0.294451   \n",
       "\n",
       "             8         9         10  ...        21        22        23  \\\n",
       "15301 -0.829098 -1.376278 -0.041185  ... -1.120096 -0.401588  1.195674   \n",
       "7502  -0.908529  0.385117  0.849195  ...  0.046759 -1.373943  0.664910   \n",
       "851   -0.299521  1.309019  0.271638  ...  1.082002 -1.426180  0.698518   \n",
       "11359  1.508130 -1.599751 -0.925676  ...  0.598752  1.678811 -0.596155   \n",
       "6692   2.597677 -1.581244 -0.325343  ... -1.675036  0.453804  0.896041   \n",
       "...         ...       ...       ...  ...       ...       ...       ...   \n",
       "11456 -0.715710 -1.024468 -1.058419  ... -0.055328 -0.478897  2.086361   \n",
       "4711  -0.555668  0.551771 -0.888808  ...  0.565831 -0.984204 -0.266516   \n",
       "13854 -0.978840 -0.766788  0.221061  ... -0.272770 -1.673250 -0.154956   \n",
       "9515  -1.415061 -0.483466  1.382175  ... -0.612853 -0.564931  2.287817   \n",
       "11524  0.112304 -1.944773 -1.426557  ... -1.484698  0.230899  2.145256   \n",
       "\n",
       "             24        25        26        27        28        29        30  \n",
       "15301  1.496003  0.613466  1.727026 -0.316908  2.717289  1.144872 -0.523642  \n",
       "7502   0.202147  0.359298 -0.078059 -0.127443  1.105441  2.317849  0.557104  \n",
       "851    1.242439  0.602408  0.188484  3.052398 -1.221592  1.548343 -1.869006  \n",
       "11359  3.304334 -1.091448  0.513954  0.544940  1.432108 -0.148844 -0.535941  \n",
       "6692   1.003501 -0.171556 -0.029186  0.100842 -0.581907  1.349542 -1.471108  \n",
       "...         ...       ...       ...       ...       ...       ...       ...  \n",
       "11456  2.363447  2.862122 -0.293090 -1.252920  0.472277  1.271678  0.050946  \n",
       "4711   1.577443 -0.138594  0.538887  0.848096 -1.254274 -0.575468 -0.955296  \n",
       "13854  0.846480  2.101977 -0.092535 -0.931773  1.669484  2.674504 -0.213896  \n",
       "9515   0.405738  0.701197 -1.446544  0.588175  0.689233  2.104477 -1.085895  \n",
       "11524  0.629967  0.330100  2.922693  0.650751 -0.642203 -0.350086 -1.843320  \n",
       "\n",
       "[8886 rows x 30 columns]"
      ]
     },
     "execution_count": 16,
     "metadata": {},
     "output_type": "execute_result"
    }
   ],
   "source": [
    "train_X"
   ]
  },
  {
   "cell_type": "code",
   "execution_count": 50,
   "id": "0c18ddd1",
   "metadata": {},
   "outputs": [
    {
     "name": "stdout",
     "output_type": "stream",
     "text": [
      "0.7734638757596218 0.8128038897893031 0.9056433408577879 0.8567157804825966\n"
     ]
    }
   ],
   "source": [
    "y_pred1 = pipe.predict(test_X1)\n",
    "tn, fp, fn, tp = confusion_matrix(test_y, y_pred1).ravel()\n",
    "accuracy = (tn + tp)/(tn + fp + fn + tp)\n",
    "precision = tp / (tp + fp)\n",
    "recall = tp / (tp + fn)\n",
    "f1 = 2 * precision * recall / (precision + recall)\n",
    "print(accuracy, precision, recall, f1)"
   ]
  },
  {
   "cell_type": "code",
   "execution_count": 39,
   "id": "4665a644",
   "metadata": {},
   "outputs": [
    {
     "data": {
      "text/html": [
       "<div>\n",
       "<style scoped>\n",
       "    .dataframe tbody tr th:only-of-type {\n",
       "        vertical-align: middle;\n",
       "    }\n",
       "\n",
       "    .dataframe tbody tr th {\n",
       "        vertical-align: top;\n",
       "    }\n",
       "\n",
       "    .dataframe thead th {\n",
       "        text-align: right;\n",
       "    }\n",
       "</style>\n",
       "<table border=\"1\" class=\"dataframe\">\n",
       "  <thead>\n",
       "    <tr style=\"text-align: right;\">\n",
       "      <th></th>\n",
       "      <th>Pred 0</th>\n",
       "      <th>Pred 1</th>\n",
       "    </tr>\n",
       "  </thead>\n",
       "  <tbody>\n",
       "    <tr>\n",
       "      <th>True 0</th>\n",
       "      <td>TN = 361 (TNR = 39.76%)</td>\n",
       "      <td>FP = 547 (FPR = 60.24%)</td>\n",
       "    </tr>\n",
       "    <tr>\n",
       "      <th>True 1</th>\n",
       "      <td>FN = 248 (FNR = 9.37%)</td>\n",
       "      <td>TP = 2399 (TPR = 90.63%)</td>\n",
       "    </tr>\n",
       "  </tbody>\n",
       "</table>\n",
       "</div>"
      ],
      "text/plain": [
       "                         Pred 0                    Pred 1\n",
       "True 0  TN = 361 (TNR = 39.76%)   FP = 547 (FPR = 60.24%)\n",
       "True 1   FN = 248 (FNR = 9.37%)  TP = 2399 (TPR = 90.63%)"
      ]
     },
     "execution_count": 39,
     "metadata": {},
     "output_type": "execute_result"
    }
   ],
   "source": [
    "conf_matrix(test_y, y_pred1)"
   ]
  },
  {
   "cell_type": "code",
   "execution_count": 24,
   "id": "804e31fa",
   "metadata": {},
   "outputs": [
    {
     "data": {
      "image/png": "[encoded data removed]",
      "text/plain": [
       "<Figure size 1000x600 with 1 Axes>"
      ]
     },
     "metadata": {},
     "output_type": "display_data"
    }
   ],
   "source": [
    "prob_test1=pipe.predict_proba(test_X1)[:,1]\n",
    "fpr, tpr, thresholds = roc_curve(test_y, y_pred1)\n",
    "dfplot=pd.DataFrame({'Threshold':thresholds, \n",
    "        'False Positive Rate':fpr, \n",
    "        'False Negative Rate': 1.-tpr})\n",
    "ax=dfplot.plot(x='Threshold', y=['False Positive Rate',\n",
    "        'False Negative Rate'], figsize=(10,6))"
   ]
  },
  {
   "cell_type": "code",
   "execution_count": 25,
   "id": "ab61d95e",
   "metadata": {},
   "outputs": [
    {
     "data": {
      "text/html": [
       "<div>\n",
       "<style scoped>\n",
       "    .dataframe tbody tr th:only-of-type {\n",
       "        vertical-align: middle;\n",
       "    }\n",
       "\n",
       "    .dataframe tbody tr th {\n",
       "        vertical-align: top;\n",
       "    }\n",
       "\n",
       "    .dataframe thead th {\n",
       "        text-align: right;\n",
       "    }\n",
       "</style>\n",
       "<table border=\"1\" class=\"dataframe\">\n",
       "  <thead>\n",
       "    <tr style=\"text-align: right;\">\n",
       "      <th></th>\n",
       "      <th>Pred 0</th>\n",
       "      <th>Pred 1</th>\n",
       "    </tr>\n",
       "  </thead>\n",
       "  <tbody>\n",
       "    <tr>\n",
       "      <th>True 0</th>\n",
       "      <td>TN = 631 (TNR = 69.49%)</td>\n",
       "      <td>FP = 277 (FPR = 30.51%)</td>\n",
       "    </tr>\n",
       "    <tr>\n",
       "      <th>True 1</th>\n",
       "      <td>FN = 820 (FNR = 30.98%)</td>\n",
       "      <td>TP = 1827 (TPR = 69.02%)</td>\n",
       "    </tr>\n",
       "  </tbody>\n",
       "</table>\n",
       "</div>"
      ],
      "text/plain": [
       "                         Pred 0                    Pred 1\n",
       "True 0  TN = 631 (TNR = 69.49%)   FP = 277 (FPR = 30.51%)\n",
       "True 1  FN = 820 (FNR = 30.98%)  TP = 1827 (TPR = 69.02%)"
      ]
     },
     "execution_count": 25,
     "metadata": {},
     "output_type": "execute_result"
    }
   ],
   "source": [
    "ypred_thres = np.where(prob_test1 >= 0.76, True, False)\n",
    "conf_matrix(test_y, ypred_thres)"
   ]
  },
  {
   "cell_type": "code",
   "execution_count": 26,
   "id": "9ef7f2f6",
   "metadata": {},
   "outputs": [
    {
     "name": "stdout",
     "output_type": "stream",
     "text": [
      "0.6914205344585092 0.8683460076045627 0.6902153381186249 0.7691012418438224\n"
     ]
    }
   ],
   "source": [
    "tn, fp, fn, tp = confusion_matrix(test_y, ypred_thres).ravel()\n",
    "accuracy = (tn + tp)/(tn + fp + fn + tp)\n",
    "precision = tp / (tp + fp)\n",
    "recall = tp / (tp + fn)\n",
    "f1 = 2 * precision * recall / (precision + recall)\n",
    "print(accuracy, precision, recall, f1)"
   ]
  },
  {
   "cell_type": "markdown",
   "id": "443c2a9b",
   "metadata": {},
   "source": [
    "## Naive Bayes"
   ]
  },
  {
   "cell_type": "code",
   "execution_count": 55,
   "id": "e7b538a5",
   "metadata": {},
   "outputs": [],
   "source": [
    "nb = BernoulliNB().fit(train_X, train_y)"
   ]
  },
  {
   "cell_type": "code",
   "execution_count": 56,
   "id": "94457771",
   "metadata": {},
   "outputs": [
    {
     "name": "stdout",
     "output_type": "stream",
     "text": [
      "0.7535449020931803 0.7722772277227723 0.9507900677200903 0.8522865236746258\n"
     ]
    }
   ],
   "source": [
    "ypred_nb = nb.predict(test_X)\n",
    "tn, fp, fn, tp = confusion_matrix(test_y, ypred_nb).ravel()\n",
    "accuracy = (tn + tp)/(tn + fp + fn + tp)\n",
    "precision = tp / (tp + fp)\n",
    "recall = tp / (tp + fn)\n",
    "f1 = 2 * precision * recall / (precision + recall)\n",
    "print(accuracy, precision, recall, f1)"
   ]
  },
  {
   "cell_type": "code",
   "execution_count": 57,
   "id": "cf8cf571",
   "metadata": {},
   "outputs": [
    {
     "data": {
      "text/html": [
       "<style>#sk-container-id-5 {color: black;background-color: white;}#sk-container-id-5 pre{padding: 0;}#sk-container-id-5 div.sk-toggleable {background-color: white;}#sk-container-id-5 label.sk-toggleable__label {cursor: pointer;display: block;width: 100%;margin-bottom: 0;padding: 0.3em;box-sizing: border-box;text-align: center;}#sk-container-id-5 label.sk-toggleable__label-arrow:before {content: \"▸\";float: left;margin-right: 0.25em;color: #696969;}#sk-container-id-5 label.sk-toggleable__label-arrow:hover:before {color: black;}#sk-container-id-5 div.sk-estimator:hover label.sk-toggleable__label-arrow:before {color: black;}#sk-container-id-5 div.sk-toggleable__content {max-height: 0;max-width: 0;overflow: hidden;text-align: left;background-color: #f0f8ff;}#sk-container-id-5 div.sk-toggleable__content pre {margin: 0.2em;color: black;border-radius: 0.25em;background-color: #f0f8ff;}#sk-container-id-5 input.sk-toggleable__control:checked~div.sk-toggleable__content {max-height: 200px;max-width: 100%;overflow: auto;}#sk-container-id-5 input.sk-toggleable__control:checked~label.sk-toggleable__label-arrow:before {content: \"▾\";}#sk-container-id-5 div.sk-estimator input.sk-toggleable__control:checked~label.sk-toggleable__label {background-color: #d4ebff;}#sk-container-id-5 div.sk-label input.sk-toggleable__control:checked~label.sk-toggleable__label {background-color: #d4ebff;}#sk-container-id-5 input.sk-hidden--visually {border: 0;clip: rect(1px 1px 1px 1px);clip: rect(1px, 1px, 1px, 1px);height: 1px;margin: -1px;overflow: hidden;padding: 0;position: absolute;width: 1px;}#sk-container-id-5 div.sk-estimator {font-family: monospace;background-color: #f0f8ff;border: 1px dotted black;border-radius: 0.25em;box-sizing: border-box;margin-bottom: 0.5em;}#sk-container-id-5 div.sk-estimator:hover {background-color: #d4ebff;}#sk-container-id-5 div.sk-parallel-item::after {content: \"\";width: 100%;border-bottom: 1px solid gray;flex-grow: 1;}#sk-container-id-5 div.sk-label:hover label.sk-toggleable__label {background-color: #d4ebff;}#sk-container-id-5 div.sk-serial::before {content: \"\";position: absolute;border-left: 1px solid gray;box-sizing: border-box;top: 0;bottom: 0;left: 50%;z-index: 0;}#sk-container-id-5 div.sk-serial {display: flex;flex-direction: column;align-items: center;background-color: white;padding-right: 0.2em;padding-left: 0.2em;position: relative;}#sk-container-id-5 div.sk-item {position: relative;z-index: 1;}#sk-container-id-5 div.sk-parallel {display: flex;align-items: stretch;justify-content: center;background-color: white;position: relative;}#sk-container-id-5 div.sk-item::before, #sk-container-id-5 div.sk-parallel-item::before {content: \"\";position: absolute;border-left: 1px solid gray;box-sizing: border-box;top: 0;bottom: 0;left: 50%;z-index: -1;}#sk-container-id-5 div.sk-parallel-item {display: flex;flex-direction: column;z-index: 1;position: relative;background-color: white;}#sk-container-id-5 div.sk-parallel-item:first-child::after {align-self: flex-end;width: 50%;}#sk-container-id-5 div.sk-parallel-item:last-child::after {align-self: flex-start;width: 50%;}#sk-container-id-5 div.sk-parallel-item:only-child::after {width: 0;}#sk-container-id-5 div.sk-dashed-wrapped {border: 1px dashed gray;margin: 0 0.4em 0.5em 0.4em;box-sizing: border-box;padding-bottom: 0.4em;background-color: white;}#sk-container-id-5 div.sk-label label {font-family: monospace;font-weight: bold;display: inline-block;line-height: 1.2em;}#sk-container-id-5 div.sk-label-container {text-align: center;}#sk-container-id-5 div.sk-container {/* jupyter's `normalize.less` sets `[hidden] { display: none; }` but bootstrap.min.css set `[hidden] { display: none !important; }` so we also need the `!important` here to be able to override the default hidden behavior on the sphinx rendered scikit-learn.org. See: https://github.com/scikit-learn/scikit-learn/issues/21755 */display: inline-block !important;position: relative;}#sk-container-id-5 div.sk-text-repr-fallback {display: none;}</style><div id=\"sk-container-id-5\" class=\"sk-top-container\"><div class=\"sk-text-repr-fallback\"><pre>Pipeline(steps=[(&#x27;tfidf&#x27;,\n",
       "                 TfidfVectorizer(stop_words=[&#x27;i&#x27;, &#x27;me&#x27;, &#x27;my&#x27;, &#x27;myself&#x27;, &#x27;we&#x27;,\n",
       "                                             &#x27;our&#x27;, &#x27;ours&#x27;, &#x27;ourselves&#x27;, &#x27;you&#x27;,\n",
       "                                             &quot;you&#x27;re&quot;, &quot;you&#x27;ve&quot;, &quot;you&#x27;ll&quot;,\n",
       "                                             &quot;you&#x27;d&quot;, &#x27;your&#x27;, &#x27;yours&#x27;,\n",
       "                                             &#x27;yourself&#x27;, &#x27;yourselves&#x27;, &#x27;he&#x27;,\n",
       "                                             &#x27;him&#x27;, &#x27;his&#x27;, &#x27;himself&#x27;, &#x27;she&#x27;,\n",
       "                                             &quot;she&#x27;s&quot;, &#x27;her&#x27;, &#x27;hers&#x27;, &#x27;herself&#x27;,\n",
       "                                             &#x27;it&#x27;, &quot;it&#x27;s&quot;, &#x27;its&#x27;, &#x27;itself&#x27;, ...])),\n",
       "                (&#x27;nb&#x27;, BernoulliNB())])</pre><b>In a Jupyter environment, please rerun this cell to show the HTML representation or trust the notebook. <br />On GitHub, the HTML representation is unable to render, please try loading this page with nbviewer.org.</b></div><div class=\"sk-container\" hidden><div class=\"sk-item sk-dashed-wrapped\"><div class=\"sk-label-container\"><div class=\"sk-label sk-toggleable\"><input class=\"sk-toggleable__control sk-hidden--visually\" id=\"sk-estimator-id-13\" type=\"checkbox\" ><label for=\"sk-estimator-id-13\" class=\"sk-toggleable__label sk-toggleable__label-arrow\">Pipeline</label><div class=\"sk-toggleable__content\"><pre>Pipeline(steps=[(&#x27;tfidf&#x27;,\n",
       "                 TfidfVectorizer(stop_words=[&#x27;i&#x27;, &#x27;me&#x27;, &#x27;my&#x27;, &#x27;myself&#x27;, &#x27;we&#x27;,\n",
       "                                             &#x27;our&#x27;, &#x27;ours&#x27;, &#x27;ourselves&#x27;, &#x27;you&#x27;,\n",
       "                                             &quot;you&#x27;re&quot;, &quot;you&#x27;ve&quot;, &quot;you&#x27;ll&quot;,\n",
       "                                             &quot;you&#x27;d&quot;, &#x27;your&#x27;, &#x27;yours&#x27;,\n",
       "                                             &#x27;yourself&#x27;, &#x27;yourselves&#x27;, &#x27;he&#x27;,\n",
       "                                             &#x27;him&#x27;, &#x27;his&#x27;, &#x27;himself&#x27;, &#x27;she&#x27;,\n",
       "                                             &quot;she&#x27;s&quot;, &#x27;her&#x27;, &#x27;hers&#x27;, &#x27;herself&#x27;,\n",
       "                                             &#x27;it&#x27;, &quot;it&#x27;s&quot;, &#x27;its&#x27;, &#x27;itself&#x27;, ...])),\n",
       "                (&#x27;nb&#x27;, BernoulliNB())])</pre></div></div></div><div class=\"sk-serial\"><div class=\"sk-item\"><div class=\"sk-estimator sk-toggleable\"><input class=\"sk-toggleable__control sk-hidden--visually\" id=\"sk-estimator-id-14\" type=\"checkbox\" ><label for=\"sk-estimator-id-14\" class=\"sk-toggleable__label sk-toggleable__label-arrow\">TfidfVectorizer</label><div class=\"sk-toggleable__content\"><pre>TfidfVectorizer(stop_words=[&#x27;i&#x27;, &#x27;me&#x27;, &#x27;my&#x27;, &#x27;myself&#x27;, &#x27;we&#x27;, &#x27;our&#x27;, &#x27;ours&#x27;,\n",
       "                            &#x27;ourselves&#x27;, &#x27;you&#x27;, &quot;you&#x27;re&quot;, &quot;you&#x27;ve&quot;, &quot;you&#x27;ll&quot;,\n",
       "                            &quot;you&#x27;d&quot;, &#x27;your&#x27;, &#x27;yours&#x27;, &#x27;yourself&#x27;, &#x27;yourselves&#x27;,\n",
       "                            &#x27;he&#x27;, &#x27;him&#x27;, &#x27;his&#x27;, &#x27;himself&#x27;, &#x27;she&#x27;, &quot;she&#x27;s&quot;,\n",
       "                            &#x27;her&#x27;, &#x27;hers&#x27;, &#x27;herself&#x27;, &#x27;it&#x27;, &quot;it&#x27;s&quot;, &#x27;its&#x27;,\n",
       "                            &#x27;itself&#x27;, ...])</pre></div></div></div><div class=\"sk-item\"><div class=\"sk-estimator sk-toggleable\"><input class=\"sk-toggleable__control sk-hidden--visually\" id=\"sk-estimator-id-15\" type=\"checkbox\" ><label for=\"sk-estimator-id-15\" class=\"sk-toggleable__label sk-toggleable__label-arrow\">BernoulliNB</label><div class=\"sk-toggleable__content\"><pre>BernoulliNB()</pre></div></div></div></div></div></div></div>"
      ],
      "text/plain": [
       "Pipeline(steps=[('tfidf',\n",
       "                 TfidfVectorizer(stop_words=['i', 'me', 'my', 'myself', 'we',\n",
       "                                             'our', 'ours', 'ourselves', 'you',\n",
       "                                             \"you're\", \"you've\", \"you'll\",\n",
       "                                             \"you'd\", 'your', 'yours',\n",
       "                                             'yourself', 'yourselves', 'he',\n",
       "                                             'him', 'his', 'himself', 'she',\n",
       "                                             \"she's\", 'her', 'hers', 'herself',\n",
       "                                             'it', \"it's\", 'its', 'itself', ...])),\n",
       "                ('nb', BernoulliNB())])"
      ]
     },
     "execution_count": 57,
     "metadata": {},
     "output_type": "execute_result"
    }
   ],
   "source": [
    "pipe_nb = Pipeline([\n",
    "    ('tfidf', TfidfVectorizer(stop_words = stopword)),\n",
    "    ('nb', BernoulliNB())])\n",
    "pipe_nb.fit(train_X1, train_y)"
   ]
  },
  {
   "cell_type": "code",
   "execution_count": 59,
   "id": "51eba164",
   "metadata": {},
   "outputs": [
    {
     "name": "stdout",
     "output_type": "stream",
     "text": [
      "0.787643484132343 0.7941394658753709 0.9665914221218962 0.8719201791895744\n"
     ]
    }
   ],
   "source": [
    "ypred_nb1 = pipe_nb.predict(test_X1)\n",
    "tn, fp, fn, tp = confusion_matrix(test_y, ypred_nb1).ravel()\n",
    "accuracy = (tn + tp)/(tn + fp + fn + tp)\n",
    "precision = tp / (tp + fp)\n",
    "recall = tp / (tp + fn)\n",
    "f1 = 2 * precision * recall / (precision + recall)\n",
    "print(accuracy, precision, recall, f1)"
   ]
  },
  {
   "cell_type": "markdown",
   "id": "a956f9b4",
   "metadata": {},
   "source": [
    "## Decision Tree"
   ]
  },
  {
   "cell_type": "code",
   "execution_count": 60,
   "id": "dd039af7",
   "metadata": {},
   "outputs": [],
   "source": [
    "dt=DecisionTreeClassifier().fit(train_X, train_y)"
   ]
  },
  {
   "cell_type": "code",
   "execution_count": 61,
   "id": "c2e9840c",
   "metadata": {},
   "outputs": [
    {
     "name": "stdout",
     "output_type": "stream",
     "text": [
      "0.6580013504388926 0.7826904985888994 0.7512415349887133 0.7666436304998847\n"
     ]
    }
   ],
   "source": [
    "ypred_dt = dt.predict(test_X)\n",
    "tn, fp, fn, tp = confusion_matrix(test_y, ypred_dt).ravel()\n",
    "accuracy = (tn + tp)/(tn + fp + fn + tp)\n",
    "precision = tp / (tp + fp)\n",
    "recall = tp / (tp + fn)\n",
    "f1 = 2 * precision * recall / (precision + recall)\n",
    "print(accuracy, precision, recall, f1)"
   ]
  },
  {
   "cell_type": "code",
   "execution_count": 62,
   "id": "d0d575d5",
   "metadata": {},
   "outputs": [
    {
     "name": "stdout",
     "output_type": "stream",
     "text": [
      "Fitting 5 folds for each of 50 candidates, totalling 250 fits\n",
      "[CV 1/5] END criterion=gini, max_depth=15, min_samples_leaf=1;, score=0.672 total time=   0.2s\n",
      "[CV 2/5] END criterion=gini, max_depth=15, min_samples_leaf=1;, score=0.671 total time=   0.2s\n",
      "[CV 3/5] END criterion=gini, max_depth=15, min_samples_leaf=1;, score=0.657 total time=   0.2s\n",
      "[CV 4/5] END criterion=gini, max_depth=15, min_samples_leaf=1;, score=0.664 total time=   0.2s\n",
      "[CV 5/5] END criterion=gini, max_depth=15, min_samples_leaf=1;, score=0.673 total time=   0.2s\n",
      "[CV 1/5] END criterion=gini, max_depth=15, min_samples_leaf=2;, score=0.661 total time=   0.2s\n",
      "[CV 2/5] END criterion=gini, max_depth=15, min_samples_leaf=2;, score=0.651 total time=   0.2s\n",
      "[CV 3/5] END criterion=gini, max_depth=15, min_samples_leaf=2;, score=0.652 total time=   0.2s\n",
      "[CV 4/5] END criterion=gini, max_depth=15, min_samples_leaf=2;, score=0.656 total time=   0.2s\n",
      "[CV 5/5] END criterion=gini, max_depth=15, min_samples_leaf=2;, score=0.672 total time=   0.2s\n",
      "[CV 1/5] END criterion=gini, max_depth=15, min_samples_leaf=3;, score=0.663 total time=   0.2s\n",
      "[CV 2/5] END criterion=gini, max_depth=15, min_samples_leaf=3;, score=0.669 total time=   0.2s\n",
      "[CV 3/5] END criterion=gini, max_depth=15, min_samples_leaf=3;, score=0.658 total time=   0.2s\n",
      "[CV 4/5] END criterion=gini, max_depth=15, min_samples_leaf=3;, score=0.678 total time=   0.2s\n",
      "[CV 5/5] END criterion=gini, max_depth=15, min_samples_leaf=3;, score=0.664 total time=   0.2s\n",
      "[CV 1/5] END criterion=gini, max_depth=15, min_samples_leaf=4;, score=0.661 total time=   0.2s\n",
      "[CV 2/5] END criterion=gini, max_depth=15, min_samples_leaf=4;, score=0.653 total time=   0.2s\n",
      "[CV 3/5] END criterion=gini, max_depth=15, min_samples_leaf=4;, score=0.647 total time=   0.2s\n",
      "[CV 4/5] END criterion=gini, max_depth=15, min_samples_leaf=4;, score=0.662 total time=   0.2s\n",
      "[CV 5/5] END criterion=gini, max_depth=15, min_samples_leaf=4;, score=0.666 total time=   0.2s\n",
      "[CV 1/5] END criterion=gini, max_depth=15, min_samples_leaf=5;, score=0.661 total time=   0.2s\n",
      "[CV 2/5] END criterion=gini, max_depth=15, min_samples_leaf=5;, score=0.667 total time=   0.2s\n",
      "[CV 3/5] END criterion=gini, max_depth=15, min_samples_leaf=5;, score=0.666 total time=   0.2s\n",
      "[CV 4/5] END criterion=gini, max_depth=15, min_samples_leaf=5;, score=0.651 total time=   0.2s\n",
      "[CV 5/5] END criterion=gini, max_depth=15, min_samples_leaf=5;, score=0.669 total time=   0.2s\n",
      "[CV 1/5] END criterion=gini, max_depth=20, min_samples_leaf=1;, score=0.643 total time=   0.2s\n",
      "[CV 2/5] END criterion=gini, max_depth=20, min_samples_leaf=1;, score=0.654 total time=   0.2s\n",
      "[CV 3/5] END criterion=gini, max_depth=20, min_samples_leaf=1;, score=0.649 total time=   0.2s\n",
      "[CV 4/5] END criterion=gini, max_depth=20, min_samples_leaf=1;, score=0.638 total time=   0.2s\n",
      "[CV 5/5] END criterion=gini, max_depth=20, min_samples_leaf=1;, score=0.656 total time=   0.2s\n",
      "[CV 1/5] END criterion=gini, max_depth=20, min_samples_leaf=2;, score=0.645 total time=   0.2s\n",
      "[CV 2/5] END criterion=gini, max_depth=20, min_samples_leaf=2;, score=0.639 total time=   0.2s\n",
      "[CV 3/5] END criterion=gini, max_depth=20, min_samples_leaf=2;, score=0.635 total time=   0.2s\n",
      "[CV 4/5] END criterion=gini, max_depth=20, min_samples_leaf=2;, score=0.634 total time=   0.2s\n",
      "[CV 5/5] END criterion=gini, max_depth=20, min_samples_leaf=2;, score=0.647 total time=   0.2s\n",
      "[CV 1/5] END criterion=gini, max_depth=20, min_samples_leaf=3;, score=0.639 total time=   0.2s\n",
      "[CV 2/5] END criterion=gini, max_depth=20, min_samples_leaf=3;, score=0.643 total time=   0.2s\n",
      "[CV 3/5] END criterion=gini, max_depth=20, min_samples_leaf=3;, score=0.645 total time=   0.2s\n",
      "[CV 4/5] END criterion=gini, max_depth=20, min_samples_leaf=3;, score=0.652 total time=   0.2s\n",
      "[CV 5/5] END criterion=gini, max_depth=20, min_samples_leaf=3;, score=0.671 total time=   0.2s\n",
      "[CV 1/5] END criterion=gini, max_depth=20, min_samples_leaf=4;, score=0.625 total time=   0.2s\n",
      "[CV 2/5] END criterion=gini, max_depth=20, min_samples_leaf=4;, score=0.644 total time=   0.2s\n",
      "[CV 3/5] END criterion=gini, max_depth=20, min_samples_leaf=4;, score=0.636 total time=   0.2s\n",
      "[CV 4/5] END criterion=gini, max_depth=20, min_samples_leaf=4;, score=0.651 total time=   0.2s\n",
      "[CV 5/5] END criterion=gini, max_depth=20, min_samples_leaf=4;, score=0.663 total time=   0.2s\n",
      "[CV 1/5] END criterion=gini, max_depth=20, min_samples_leaf=5;, score=0.645 total time=   0.2s\n",
      "[CV 2/5] END criterion=gini, max_depth=20, min_samples_leaf=5;, score=0.658 total time=   0.2s\n",
      "[CV 3/5] END criterion=gini, max_depth=20, min_samples_leaf=5;, score=0.662 total time=   0.2s\n",
      "[CV 4/5] END criterion=gini, max_depth=20, min_samples_leaf=5;, score=0.648 total time=   0.2s\n",
      "[CV 5/5] END criterion=gini, max_depth=20, min_samples_leaf=5;, score=0.670 total time=   0.2s\n",
      "[CV 1/5] END criterion=gini, max_depth=25, min_samples_leaf=1;, score=0.637 total time=   0.2s\n",
      "[CV 2/5] END criterion=gini, max_depth=25, min_samples_leaf=1;, score=0.639 total time=   0.2s\n",
      "[CV 3/5] END criterion=gini, max_depth=25, min_samples_leaf=1;, score=0.638 total time=   0.2s\n",
      "[CV 4/5] END criterion=gini, max_depth=25, min_samples_leaf=1;, score=0.640 total time=   0.2s\n",
      "[CV 5/5] END criterion=gini, max_depth=25, min_samples_leaf=1;, score=0.660 total time=   0.2s\n",
      "[CV 1/5] END criterion=gini, max_depth=25, min_samples_leaf=2;, score=0.633 total time=   0.2s\n",
      "[CV 2/5] END criterion=gini, max_depth=25, min_samples_leaf=2;, score=0.624 total time=   0.2s\n",
      "[CV 3/5] END criterion=gini, max_depth=25, min_samples_leaf=2;, score=0.629 total time=   0.2s\n",
      "[CV 4/5] END criterion=gini, max_depth=25, min_samples_leaf=2;, score=0.623 total time=   0.2s\n",
      "[CV 5/5] END criterion=gini, max_depth=25, min_samples_leaf=2;, score=0.649 total time=   0.2s\n",
      "[CV 1/5] END criterion=gini, max_depth=25, min_samples_leaf=3;, score=0.623 total time=   0.2s\n",
      "[CV 2/5] END criterion=gini, max_depth=25, min_samples_leaf=3;, score=0.635 total time=   0.2s\n",
      "[CV 3/5] END criterion=gini, max_depth=25, min_samples_leaf=3;, score=0.654 total time=   0.2s\n",
      "[CV 4/5] END criterion=gini, max_depth=25, min_samples_leaf=3;, score=0.665 total time=   0.2s\n",
      "[CV 5/5] END criterion=gini, max_depth=25, min_samples_leaf=3;, score=0.658 total time=   0.2s\n",
      "[CV 1/5] END criterion=gini, max_depth=25, min_samples_leaf=4;, score=0.625 total time=   0.2s\n",
      "[CV 2/5] END criterion=gini, max_depth=25, min_samples_leaf=4;, score=0.645 total time=   0.2s\n",
      "[CV 3/5] END criterion=gini, max_depth=25, min_samples_leaf=4;, score=0.636 total time=   0.2s\n",
      "[CV 4/5] END criterion=gini, max_depth=25, min_samples_leaf=4;, score=0.652 total time=   0.2s\n",
      "[CV 5/5] END criterion=gini, max_depth=25, min_samples_leaf=4;, score=0.658 total time=   0.2s\n",
      "[CV 1/5] END criterion=gini, max_depth=25, min_samples_leaf=5;, score=0.637 total time=   0.2s\n",
      "[CV 2/5] END criterion=gini, max_depth=25, min_samples_leaf=5;, score=0.657 total time=   0.2s\n",
      "[CV 3/5] END criterion=gini, max_depth=25, min_samples_leaf=5;, score=0.655 total time=   0.2s\n",
      "[CV 4/5] END criterion=gini, max_depth=25, min_samples_leaf=5;, score=0.644 total time=   0.2s\n",
      "[CV 5/5] END criterion=gini, max_depth=25, min_samples_leaf=5;, score=0.666 total time=   0.2s\n",
      "[CV 1/5] END criterion=gini, max_depth=30, min_samples_leaf=1;, score=0.643 total time=   0.2s\n",
      "[CV 2/5] END criterion=gini, max_depth=30, min_samples_leaf=1;, score=0.649 total time=   0.2s\n",
      "[CV 3/5] END criterion=gini, max_depth=30, min_samples_leaf=1;, score=0.650 total time=   0.2s\n",
      "[CV 4/5] END criterion=gini, max_depth=30, min_samples_leaf=1;, score=0.633 total time=   0.2s\n",
      "[CV 5/5] END criterion=gini, max_depth=30, min_samples_leaf=1;, score=0.654 total time=   0.2s\n",
      "[CV 1/5] END criterion=gini, max_depth=30, min_samples_leaf=2;, score=0.636 total time=   0.2s\n",
      "[CV 2/5] END criterion=gini, max_depth=30, min_samples_leaf=2;, score=0.638 total time=   0.2s\n",
      "[CV 3/5] END criterion=gini, max_depth=30, min_samples_leaf=2;, score=0.625 total time=   0.2s\n",
      "[CV 4/5] END criterion=gini, max_depth=30, min_samples_leaf=2;, score=0.614 total time=   0.2s\n",
      "[CV 5/5] END criterion=gini, max_depth=30, min_samples_leaf=2;, score=0.649 total time=   0.2s\n",
      "[CV 1/5] END criterion=gini, max_depth=30, min_samples_leaf=3;, score=0.620 total time=   0.2s\n",
      "[CV 2/5] END criterion=gini, max_depth=30, min_samples_leaf=3;, score=0.649 total time=   0.2s\n"
     ]
    },
    {
     "name": "stdout",
     "output_type": "stream",
     "text": [
      "[CV 3/5] END criterion=gini, max_depth=30, min_samples_leaf=3;, score=0.644 total time=   0.2s\n",
      "[CV 4/5] END criterion=gini, max_depth=30, min_samples_leaf=3;, score=0.653 total time=   0.2s\n",
      "[CV 5/5] END criterion=gini, max_depth=30, min_samples_leaf=3;, score=0.648 total time=   0.2s\n",
      "[CV 1/5] END criterion=gini, max_depth=30, min_samples_leaf=4;, score=0.607 total time=   0.2s\n",
      "[CV 2/5] END criterion=gini, max_depth=30, min_samples_leaf=4;, score=0.645 total time=   0.2s\n",
      "[CV 3/5] END criterion=gini, max_depth=30, min_samples_leaf=4;, score=0.634 total time=   0.2s\n",
      "[CV 4/5] END criterion=gini, max_depth=30, min_samples_leaf=4;, score=0.645 total time=   0.2s\n",
      "[CV 5/5] END criterion=gini, max_depth=30, min_samples_leaf=4;, score=0.655 total time=   0.2s\n",
      "[CV 1/5] END criterion=gini, max_depth=30, min_samples_leaf=5;, score=0.648 total time=   0.2s\n",
      "[CV 2/5] END criterion=gini, max_depth=30, min_samples_leaf=5;, score=0.652 total time=   0.2s\n",
      "[CV 3/5] END criterion=gini, max_depth=30, min_samples_leaf=5;, score=0.661 total time=   0.2s\n",
      "[CV 4/5] END criterion=gini, max_depth=30, min_samples_leaf=5;, score=0.645 total time=   0.2s\n",
      "[CV 5/5] END criterion=gini, max_depth=30, min_samples_leaf=5;, score=0.666 total time=   0.2s\n",
      "[CV 1/5] END criterion=gini, max_depth=35, min_samples_leaf=1;, score=0.644 total time=   0.2s\n",
      "[CV 2/5] END criterion=gini, max_depth=35, min_samples_leaf=1;, score=0.643 total time=   0.2s\n",
      "[CV 3/5] END criterion=gini, max_depth=35, min_samples_leaf=1;, score=0.637 total time=   0.2s\n",
      "[CV 4/5] END criterion=gini, max_depth=35, min_samples_leaf=1;, score=0.631 total time=   0.2s\n",
      "[CV 5/5] END criterion=gini, max_depth=35, min_samples_leaf=1;, score=0.660 total time=   0.2s\n",
      "[CV 1/5] END criterion=gini, max_depth=35, min_samples_leaf=2;, score=0.629 total time=   0.2s\n",
      "[CV 2/5] END criterion=gini, max_depth=35, min_samples_leaf=2;, score=0.631 total time=   0.2s\n",
      "[CV 3/5] END criterion=gini, max_depth=35, min_samples_leaf=2;, score=0.630 total time=   0.2s\n",
      "[CV 4/5] END criterion=gini, max_depth=35, min_samples_leaf=2;, score=0.620 total time=   0.2s\n",
      "[CV 5/5] END criterion=gini, max_depth=35, min_samples_leaf=2;, score=0.657 total time=   0.2s\n",
      "[CV 1/5] END criterion=gini, max_depth=35, min_samples_leaf=3;, score=0.622 total time=   0.2s\n",
      "[CV 2/5] END criterion=gini, max_depth=35, min_samples_leaf=3;, score=0.648 total time=   0.2s\n",
      "[CV 3/5] END criterion=gini, max_depth=35, min_samples_leaf=3;, score=0.643 total time=   0.2s\n",
      "[CV 4/5] END criterion=gini, max_depth=35, min_samples_leaf=3;, score=0.658 total time=   0.2s\n",
      "[CV 5/5] END criterion=gini, max_depth=35, min_samples_leaf=3;, score=0.652 total time=   0.2s\n",
      "[CV 1/5] END criterion=gini, max_depth=35, min_samples_leaf=4;, score=0.617 total time=   0.2s\n",
      "[CV 2/5] END criterion=gini, max_depth=35, min_samples_leaf=4;, score=0.640 total time=   0.2s\n",
      "[CV 3/5] END criterion=gini, max_depth=35, min_samples_leaf=4;, score=0.636 total time=   0.2s\n",
      "[CV 4/5] END criterion=gini, max_depth=35, min_samples_leaf=4;, score=0.649 total time=   0.2s\n",
      "[CV 5/5] END criterion=gini, max_depth=35, min_samples_leaf=4;, score=0.659 total time=   0.2s\n",
      "[CV 1/5] END criterion=gini, max_depth=35, min_samples_leaf=5;, score=0.644 total time=   0.2s\n",
      "[CV 2/5] END criterion=gini, max_depth=35, min_samples_leaf=5;, score=0.658 total time=   0.2s\n",
      "[CV 3/5] END criterion=gini, max_depth=35, min_samples_leaf=5;, score=0.666 total time=   0.2s\n",
      "[CV 4/5] END criterion=gini, max_depth=35, min_samples_leaf=5;, score=0.648 total time=   0.2s\n",
      "[CV 5/5] END criterion=gini, max_depth=35, min_samples_leaf=5;, score=0.665 total time=   0.2s\n",
      "[CV 1/5] END criterion=entropy, max_depth=15, min_samples_leaf=1;, score=0.659 total time=   0.2s\n",
      "[CV 2/5] END criterion=entropy, max_depth=15, min_samples_leaf=1;, score=0.679 total time=   0.2s\n",
      "[CV 3/5] END criterion=entropy, max_depth=15, min_samples_leaf=1;, score=0.670 total time=   0.2s\n",
      "[CV 4/5] END criterion=entropy, max_depth=15, min_samples_leaf=1;, score=0.684 total time=   0.2s\n",
      "[CV 5/5] END criterion=entropy, max_depth=15, min_samples_leaf=1;, score=0.672 total time=   0.2s\n",
      "[CV 1/5] END criterion=entropy, max_depth=15, min_samples_leaf=2;, score=0.652 total time=   0.2s\n",
      "[CV 2/5] END criterion=entropy, max_depth=15, min_samples_leaf=2;, score=0.675 total time=   0.2s\n",
      "[CV 3/5] END criterion=entropy, max_depth=15, min_samples_leaf=2;, score=0.656 total time=   0.2s\n",
      "[CV 4/5] END criterion=entropy, max_depth=15, min_samples_leaf=2;, score=0.685 total time=   0.2s\n",
      "[CV 5/5] END criterion=entropy, max_depth=15, min_samples_leaf=2;, score=0.672 total time=   0.2s\n",
      "[CV 1/5] END criterion=entropy, max_depth=15, min_samples_leaf=3;, score=0.661 total time=   0.2s\n",
      "[CV 2/5] END criterion=entropy, max_depth=15, min_samples_leaf=3;, score=0.678 total time=   0.2s\n",
      "[CV 3/5] END criterion=entropy, max_depth=15, min_samples_leaf=3;, score=0.670 total time=   0.2s\n",
      "[CV 4/5] END criterion=entropy, max_depth=15, min_samples_leaf=3;, score=0.690 total time=   0.2s\n",
      "[CV 5/5] END criterion=entropy, max_depth=15, min_samples_leaf=3;, score=0.674 total time=   0.2s\n",
      "[CV 1/5] END criterion=entropy, max_depth=15, min_samples_leaf=4;, score=0.670 total time=   0.2s\n",
      "[CV 2/5] END criterion=entropy, max_depth=15, min_samples_leaf=4;, score=0.671 total time=   0.3s\n",
      "[CV 3/5] END criterion=entropy, max_depth=15, min_samples_leaf=4;, score=0.666 total time=   0.3s\n",
      "[CV 4/5] END criterion=entropy, max_depth=15, min_samples_leaf=4;, score=0.691 total time=   0.2s\n",
      "[CV 5/5] END criterion=entropy, max_depth=15, min_samples_leaf=4;, score=0.663 total time=   0.2s\n",
      "[CV 1/5] END criterion=entropy, max_depth=15, min_samples_leaf=5;, score=0.656 total time=   0.2s\n",
      "[CV 2/5] END criterion=entropy, max_depth=15, min_samples_leaf=5;, score=0.683 total time=   0.2s\n",
      "[CV 3/5] END criterion=entropy, max_depth=15, min_samples_leaf=5;, score=0.666 total time=   0.2s\n",
      "[CV 4/5] END criterion=entropy, max_depth=15, min_samples_leaf=5;, score=0.688 total time=   0.2s\n",
      "[CV 5/5] END criterion=entropy, max_depth=15, min_samples_leaf=5;, score=0.665 total time=   0.2s\n",
      "[CV 1/5] END criterion=entropy, max_depth=20, min_samples_leaf=1;, score=0.648 total time=   0.2s\n",
      "[CV 2/5] END criterion=entropy, max_depth=20, min_samples_leaf=1;, score=0.653 total time=   0.2s\n",
      "[CV 3/5] END criterion=entropy, max_depth=20, min_samples_leaf=1;, score=0.663 total time=   0.2s\n",
      "[CV 4/5] END criterion=entropy, max_depth=20, min_samples_leaf=1;, score=0.661 total time=   0.2s\n",
      "[CV 5/5] END criterion=entropy, max_depth=20, min_samples_leaf=1;, score=0.660 total time=   0.2s\n",
      "[CV 1/5] END criterion=entropy, max_depth=20, min_samples_leaf=2;, score=0.633 total time=   0.2s\n",
      "[CV 2/5] END criterion=entropy, max_depth=20, min_samples_leaf=2;, score=0.645 total time=   0.2s\n",
      "[CV 3/5] END criterion=entropy, max_depth=20, min_samples_leaf=2;, score=0.652 total time=   0.2s\n",
      "[CV 4/5] END criterion=entropy, max_depth=20, min_samples_leaf=2;, score=0.667 total time=   0.3s\n",
      "[CV 5/5] END criterion=entropy, max_depth=20, min_samples_leaf=2;, score=0.655 total time=   0.2s\n",
      "[CV 1/5] END criterion=entropy, max_depth=20, min_samples_leaf=3;, score=0.645 total time=   0.3s\n",
      "[CV 2/5] END criterion=entropy, max_depth=20, min_samples_leaf=3;, score=0.662 total time=   0.3s\n",
      "[CV 3/5] END criterion=entropy, max_depth=20, min_samples_leaf=3;, score=0.660 total time=   0.2s\n",
      "[CV 4/5] END criterion=entropy, max_depth=20, min_samples_leaf=3;, score=0.674 total time=   0.2s\n",
      "[CV 5/5] END criterion=entropy, max_depth=20, min_samples_leaf=3;, score=0.653 total time=   0.2s\n",
      "[CV 1/5] END criterion=entropy, max_depth=20, min_samples_leaf=4;, score=0.651 total time=   0.3s\n",
      "[CV 2/5] END criterion=entropy, max_depth=20, min_samples_leaf=4;, score=0.660 total time=   0.2s\n",
      "[CV 3/5] END criterion=entropy, max_depth=20, min_samples_leaf=4;, score=0.664 total time=   0.2s\n",
      "[CV 4/5] END criterion=entropy, max_depth=20, min_samples_leaf=4;, score=0.669 total time=   0.2s\n",
      "[CV 5/5] END criterion=entropy, max_depth=20, min_samples_leaf=4;, score=0.656 total time=   0.2s\n",
      "[CV 1/5] END criterion=entropy, max_depth=20, min_samples_leaf=5;, score=0.654 total time=   0.2s\n",
      "[CV 2/5] END criterion=entropy, max_depth=20, min_samples_leaf=5;, score=0.663 total time=   0.2s\n"
     ]
    },
    {
     "name": "stdout",
     "output_type": "stream",
     "text": [
      "[CV 3/5] END criterion=entropy, max_depth=20, min_samples_leaf=5;, score=0.661 total time=   0.2s\n",
      "[CV 4/5] END criterion=entropy, max_depth=20, min_samples_leaf=5;, score=0.675 total time=   0.2s\n",
      "[CV 5/5] END criterion=entropy, max_depth=20, min_samples_leaf=5;, score=0.654 total time=   0.3s\n",
      "[CV 1/5] END criterion=entropy, max_depth=25, min_samples_leaf=1;, score=0.637 total time=   0.3s\n",
      "[CV 2/5] END criterion=entropy, max_depth=25, min_samples_leaf=1;, score=0.652 total time=   0.3s\n",
      "[CV 3/5] END criterion=entropy, max_depth=25, min_samples_leaf=1;, score=0.664 total time=   0.3s\n",
      "[CV 4/5] END criterion=entropy, max_depth=25, min_samples_leaf=1;, score=0.669 total time=   0.3s\n",
      "[CV 5/5] END criterion=entropy, max_depth=25, min_samples_leaf=1;, score=0.657 total time=   0.3s\n",
      "[CV 1/5] END criterion=entropy, max_depth=25, min_samples_leaf=2;, score=0.636 total time=   0.3s\n",
      "[CV 2/5] END criterion=entropy, max_depth=25, min_samples_leaf=2;, score=0.652 total time=   0.2s\n",
      "[CV 3/5] END criterion=entropy, max_depth=25, min_samples_leaf=2;, score=0.643 total time=   0.2s\n",
      "[CV 4/5] END criterion=entropy, max_depth=25, min_samples_leaf=2;, score=0.660 total time=   0.2s\n",
      "[CV 5/5] END criterion=entropy, max_depth=25, min_samples_leaf=2;, score=0.649 total time=   0.3s\n",
      "[CV 1/5] END criterion=entropy, max_depth=25, min_samples_leaf=3;, score=0.636 total time=   0.2s\n",
      "[CV 2/5] END criterion=entropy, max_depth=25, min_samples_leaf=3;, score=0.661 total time=   0.2s\n",
      "[CV 3/5] END criterion=entropy, max_depth=25, min_samples_leaf=3;, score=0.666 total time=   0.2s\n",
      "[CV 4/5] END criterion=entropy, max_depth=25, min_samples_leaf=3;, score=0.671 total time=   0.2s\n",
      "[CV 5/5] END criterion=entropy, max_depth=25, min_samples_leaf=3;, score=0.653 total time=   0.2s\n",
      "[CV 1/5] END criterion=entropy, max_depth=25, min_samples_leaf=4;, score=0.657 total time=   0.2s\n",
      "[CV 2/5] END criterion=entropy, max_depth=25, min_samples_leaf=4;, score=0.656 total time=   0.2s\n",
      "[CV 3/5] END criterion=entropy, max_depth=25, min_samples_leaf=4;, score=0.669 total time=   0.2s\n",
      "[CV 4/5] END criterion=entropy, max_depth=25, min_samples_leaf=4;, score=0.671 total time=   0.2s\n",
      "[CV 5/5] END criterion=entropy, max_depth=25, min_samples_leaf=4;, score=0.636 total time=   0.2s\n",
      "[CV 1/5] END criterion=entropy, max_depth=25, min_samples_leaf=5;, score=0.646 total time=   0.2s\n",
      "[CV 2/5] END criterion=entropy, max_depth=25, min_samples_leaf=5;, score=0.663 total time=   0.2s\n",
      "[CV 3/5] END criterion=entropy, max_depth=25, min_samples_leaf=5;, score=0.661 total time=   0.2s\n",
      "[CV 4/5] END criterion=entropy, max_depth=25, min_samples_leaf=5;, score=0.685 total time=   0.2s\n",
      "[CV 5/5] END criterion=entropy, max_depth=25, min_samples_leaf=5;, score=0.649 total time=   0.2s\n",
      "[CV 1/5] END criterion=entropy, max_depth=30, min_samples_leaf=1;, score=0.643 total time=   0.3s\n",
      "[CV 2/5] END criterion=entropy, max_depth=30, min_samples_leaf=1;, score=0.651 total time=   0.2s\n",
      "[CV 3/5] END criterion=entropy, max_depth=30, min_samples_leaf=1;, score=0.653 total time=   0.2s\n",
      "[CV 4/5] END criterion=entropy, max_depth=30, min_samples_leaf=1;, score=0.671 total time=   0.2s\n",
      "[CV 5/5] END criterion=entropy, max_depth=30, min_samples_leaf=1;, score=0.654 total time=   0.3s\n",
      "[CV 1/5] END criterion=entropy, max_depth=30, min_samples_leaf=2;, score=0.628 total time=   0.2s\n",
      "[CV 2/5] END criterion=entropy, max_depth=30, min_samples_leaf=2;, score=0.650 total time=   0.2s\n",
      "[CV 3/5] END criterion=entropy, max_depth=30, min_samples_leaf=2;, score=0.651 total time=   0.2s\n",
      "[CV 4/5] END criterion=entropy, max_depth=30, min_samples_leaf=2;, score=0.667 total time=   0.2s\n",
      "[CV 5/5] END criterion=entropy, max_depth=30, min_samples_leaf=2;, score=0.647 total time=   0.2s\n",
      "[CV 1/5] END criterion=entropy, max_depth=30, min_samples_leaf=3;, score=0.645 total time=   0.2s\n",
      "[CV 2/5] END criterion=entropy, max_depth=30, min_samples_leaf=3;, score=0.654 total time=   0.2s\n",
      "[CV 3/5] END criterion=entropy, max_depth=30, min_samples_leaf=3;, score=0.662 total time=   0.2s\n",
      "[CV 4/5] END criterion=entropy, max_depth=30, min_samples_leaf=3;, score=0.678 total time=   0.2s\n",
      "[CV 5/5] END criterion=entropy, max_depth=30, min_samples_leaf=3;, score=0.650 total time=   0.2s\n",
      "[CV 1/5] END criterion=entropy, max_depth=30, min_samples_leaf=4;, score=0.657 total time=   0.2s\n",
      "[CV 2/5] END criterion=entropy, max_depth=30, min_samples_leaf=4;, score=0.658 total time=   0.2s\n",
      "[CV 3/5] END criterion=entropy, max_depth=30, min_samples_leaf=4;, score=0.664 total time=   0.2s\n",
      "[CV 4/5] END criterion=entropy, max_depth=30, min_samples_leaf=4;, score=0.681 total time=   0.2s\n",
      "[CV 5/5] END criterion=entropy, max_depth=30, min_samples_leaf=4;, score=0.643 total time=   0.2s\n",
      "[CV 1/5] END criterion=entropy, max_depth=30, min_samples_leaf=5;, score=0.651 total time=   0.2s\n",
      "[CV 2/5] END criterion=entropy, max_depth=30, min_samples_leaf=5;, score=0.660 total time=   0.2s\n",
      "[CV 3/5] END criterion=entropy, max_depth=30, min_samples_leaf=5;, score=0.656 total time=   0.2s\n",
      "[CV 4/5] END criterion=entropy, max_depth=30, min_samples_leaf=5;, score=0.676 total time=   0.2s\n",
      "[CV 5/5] END criterion=entropy, max_depth=30, min_samples_leaf=5;, score=0.647 total time=   0.2s\n",
      "[CV 1/5] END criterion=entropy, max_depth=35, min_samples_leaf=1;, score=0.642 total time=   0.3s\n",
      "[CV 2/5] END criterion=entropy, max_depth=35, min_samples_leaf=1;, score=0.652 total time=   0.2s\n",
      "[CV 3/5] END criterion=entropy, max_depth=35, min_samples_leaf=1;, score=0.665 total time=   0.2s\n",
      "[CV 4/5] END criterion=entropy, max_depth=35, min_samples_leaf=1;, score=0.668 total time=   0.2s\n",
      "[CV 5/5] END criterion=entropy, max_depth=35, min_samples_leaf=1;, score=0.654 total time=   0.3s\n",
      "[CV 1/5] END criterion=entropy, max_depth=35, min_samples_leaf=2;, score=0.629 total time=   0.3s\n",
      "[CV 2/5] END criterion=entropy, max_depth=35, min_samples_leaf=2;, score=0.643 total time=   0.3s\n",
      "[CV 3/5] END criterion=entropy, max_depth=35, min_samples_leaf=2;, score=0.653 total time=   0.2s\n",
      "[CV 4/5] END criterion=entropy, max_depth=35, min_samples_leaf=2;, score=0.665 total time=   0.2s\n",
      "[CV 5/5] END criterion=entropy, max_depth=35, min_samples_leaf=2;, score=0.656 total time=   0.2s\n",
      "[CV 1/5] END criterion=entropy, max_depth=35, min_samples_leaf=3;, score=0.638 total time=   0.2s\n",
      "[CV 2/5] END criterion=entropy, max_depth=35, min_samples_leaf=3;, score=0.656 total time=   0.2s\n",
      "[CV 3/5] END criterion=entropy, max_depth=35, min_samples_leaf=3;, score=0.656 total time=   0.2s\n",
      "[CV 4/5] END criterion=entropy, max_depth=35, min_samples_leaf=3;, score=0.675 total time=   0.2s\n",
      "[CV 5/5] END criterion=entropy, max_depth=35, min_samples_leaf=3;, score=0.653 total time=   0.2s\n",
      "[CV 1/5] END criterion=entropy, max_depth=35, min_samples_leaf=4;, score=0.644 total time=   0.2s\n",
      "[CV 2/5] END criterion=entropy, max_depth=35, min_samples_leaf=4;, score=0.647 total time=   0.2s\n",
      "[CV 3/5] END criterion=entropy, max_depth=35, min_samples_leaf=4;, score=0.658 total time=   0.2s\n",
      "[CV 4/5] END criterion=entropy, max_depth=35, min_samples_leaf=4;, score=0.670 total time=   0.2s\n",
      "[CV 5/5] END criterion=entropy, max_depth=35, min_samples_leaf=4;, score=0.633 total time=   0.2s\n",
      "[CV 1/5] END criterion=entropy, max_depth=35, min_samples_leaf=5;, score=0.649 total time=   0.2s\n",
      "[CV 2/5] END criterion=entropy, max_depth=35, min_samples_leaf=5;, score=0.656 total time=   0.2s\n",
      "[CV 3/5] END criterion=entropy, max_depth=35, min_samples_leaf=5;, score=0.670 total time=   0.2s\n",
      "[CV 4/5] END criterion=entropy, max_depth=35, min_samples_leaf=5;, score=0.680 total time=   0.2s\n",
      "[CV 5/5] END criterion=entropy, max_depth=35, min_samples_leaf=5;, score=0.650 total time=   0.2s\n"
     ]
    },
    {
     "data": {
      "text/html": [
       "<style>#sk-container-id-6 {color: black;background-color: white;}#sk-container-id-6 pre{padding: 0;}#sk-container-id-6 div.sk-toggleable {background-color: white;}#sk-container-id-6 label.sk-toggleable__label {cursor: pointer;display: block;width: 100%;margin-bottom: 0;padding: 0.3em;box-sizing: border-box;text-align: center;}#sk-container-id-6 label.sk-toggleable__label-arrow:before {content: \"▸\";float: left;margin-right: 0.25em;color: #696969;}#sk-container-id-6 label.sk-toggleable__label-arrow:hover:before {color: black;}#sk-container-id-6 div.sk-estimator:hover label.sk-toggleable__label-arrow:before {color: black;}#sk-container-id-6 div.sk-toggleable__content {max-height: 0;max-width: 0;overflow: hidden;text-align: left;background-color: #f0f8ff;}#sk-container-id-6 div.sk-toggleable__content pre {margin: 0.2em;color: black;border-radius: 0.25em;background-color: #f0f8ff;}#sk-container-id-6 input.sk-toggleable__control:checked~div.sk-toggleable__content {max-height: 200px;max-width: 100%;overflow: auto;}#sk-container-id-6 input.sk-toggleable__control:checked~label.sk-toggleable__label-arrow:before {content: \"▾\";}#sk-container-id-6 div.sk-estimator input.sk-toggleable__control:checked~label.sk-toggleable__label {background-color: #d4ebff;}#sk-container-id-6 div.sk-label input.sk-toggleable__control:checked~label.sk-toggleable__label {background-color: #d4ebff;}#sk-container-id-6 input.sk-hidden--visually {border: 0;clip: rect(1px 1px 1px 1px);clip: rect(1px, 1px, 1px, 1px);height: 1px;margin: -1px;overflow: hidden;padding: 0;position: absolute;width: 1px;}#sk-container-id-6 div.sk-estimator {font-family: monospace;background-color: #f0f8ff;border: 1px dotted black;border-radius: 0.25em;box-sizing: border-box;margin-bottom: 0.5em;}#sk-container-id-6 div.sk-estimator:hover {background-color: #d4ebff;}#sk-container-id-6 div.sk-parallel-item::after {content: \"\";width: 100%;border-bottom: 1px solid gray;flex-grow: 1;}#sk-container-id-6 div.sk-label:hover label.sk-toggleable__label {background-color: #d4ebff;}#sk-container-id-6 div.sk-serial::before {content: \"\";position: absolute;border-left: 1px solid gray;box-sizing: border-box;top: 0;bottom: 0;left: 50%;z-index: 0;}#sk-container-id-6 div.sk-serial {display: flex;flex-direction: column;align-items: center;background-color: white;padding-right: 0.2em;padding-left: 0.2em;position: relative;}#sk-container-id-6 div.sk-item {position: relative;z-index: 1;}#sk-container-id-6 div.sk-parallel {display: flex;align-items: stretch;justify-content: center;background-color: white;position: relative;}#sk-container-id-6 div.sk-item::before, #sk-container-id-6 div.sk-parallel-item::before {content: \"\";position: absolute;border-left: 1px solid gray;box-sizing: border-box;top: 0;bottom: 0;left: 50%;z-index: -1;}#sk-container-id-6 div.sk-parallel-item {display: flex;flex-direction: column;z-index: 1;position: relative;background-color: white;}#sk-container-id-6 div.sk-parallel-item:first-child::after {align-self: flex-end;width: 50%;}#sk-container-id-6 div.sk-parallel-item:last-child::after {align-self: flex-start;width: 50%;}#sk-container-id-6 div.sk-parallel-item:only-child::after {width: 0;}#sk-container-id-6 div.sk-dashed-wrapped {border: 1px dashed gray;margin: 0 0.4em 0.5em 0.4em;box-sizing: border-box;padding-bottom: 0.4em;background-color: white;}#sk-container-id-6 div.sk-label label {font-family: monospace;font-weight: bold;display: inline-block;line-height: 1.2em;}#sk-container-id-6 div.sk-label-container {text-align: center;}#sk-container-id-6 div.sk-container {/* jupyter's `normalize.less` sets `[hidden] { display: none; }` but bootstrap.min.css set `[hidden] { display: none !important; }` so we also need the `!important` here to be able to override the default hidden behavior on the sphinx rendered scikit-learn.org. See: https://github.com/scikit-learn/scikit-learn/issues/21755 */display: inline-block !important;position: relative;}#sk-container-id-6 div.sk-text-repr-fallback {display: none;}</style><div id=\"sk-container-id-6\" class=\"sk-top-container\"><div class=\"sk-text-repr-fallback\"><pre>GridSearchCV(estimator=DecisionTreeClassifier(),\n",
       "             param_grid={&#x27;criterion&#x27;: [&#x27;gini&#x27;, &#x27;entropy&#x27;],\n",
       "                         &#x27;max_depth&#x27;: [15, 20, 25, 30, 35],\n",
       "                         &#x27;min_samples_leaf&#x27;: range(1, 6)},\n",
       "             verbose=3)</pre><b>In a Jupyter environment, please rerun this cell to show the HTML representation or trust the notebook. <br />On GitHub, the HTML representation is unable to render, please try loading this page with nbviewer.org.</b></div><div class=\"sk-container\" hidden><div class=\"sk-item sk-dashed-wrapped\"><div class=\"sk-label-container\"><div class=\"sk-label sk-toggleable\"><input class=\"sk-toggleable__control sk-hidden--visually\" id=\"sk-estimator-id-16\" type=\"checkbox\" ><label for=\"sk-estimator-id-16\" class=\"sk-toggleable__label sk-toggleable__label-arrow\">GridSearchCV</label><div class=\"sk-toggleable__content\"><pre>GridSearchCV(estimator=DecisionTreeClassifier(),\n",
       "             param_grid={&#x27;criterion&#x27;: [&#x27;gini&#x27;, &#x27;entropy&#x27;],\n",
       "                         &#x27;max_depth&#x27;: [15, 20, 25, 30, 35],\n",
       "                         &#x27;min_samples_leaf&#x27;: range(1, 6)},\n",
       "             verbose=3)</pre></div></div></div><div class=\"sk-parallel\"><div class=\"sk-parallel-item\"><div class=\"sk-item\"><div class=\"sk-label-container\"><div class=\"sk-label sk-toggleable\"><input class=\"sk-toggleable__control sk-hidden--visually\" id=\"sk-estimator-id-17\" type=\"checkbox\" ><label for=\"sk-estimator-id-17\" class=\"sk-toggleable__label sk-toggleable__label-arrow\">estimator: DecisionTreeClassifier</label><div class=\"sk-toggleable__content\"><pre>DecisionTreeClassifier()</pre></div></div></div><div class=\"sk-serial\"><div class=\"sk-item\"><div class=\"sk-estimator sk-toggleable\"><input class=\"sk-toggleable__control sk-hidden--visually\" id=\"sk-estimator-id-18\" type=\"checkbox\" ><label for=\"sk-estimator-id-18\" class=\"sk-toggleable__label sk-toggleable__label-arrow\">DecisionTreeClassifier</label><div class=\"sk-toggleable__content\"><pre>DecisionTreeClassifier()</pre></div></div></div></div></div></div></div></div></div></div>"
      ],
      "text/plain": [
       "GridSearchCV(estimator=DecisionTreeClassifier(),\n",
       "             param_grid={'criterion': ['gini', 'entropy'],\n",
       "                         'max_depth': [15, 20, 25, 30, 35],\n",
       "                         'min_samples_leaf': range(1, 6)},\n",
       "             verbose=3)"
      ]
     },
     "execution_count": 62,
     "metadata": {},
     "output_type": "execute_result"
    }
   ],
   "source": [
    "# # GridSearch\n",
    "# dt_param = {\n",
    "#     'criterion':['gini','entropy'],\n",
    "#     'max_depth':[15, 20, 25, 30, 35],\n",
    "#     'min_samples_leaf': range(1,6)\n",
    "# }\n",
    "# dt_grid = GridSearchCV(DecisionTreeClassifier(), dt_param, verbose = 3)\n",
    "# dt_grid.fit(train_X, train_y)"
   ]
  },
  {
   "cell_type": "code",
   "execution_count": 63,
   "id": "b7cfc01f",
   "metadata": {},
   "outputs": [
    {
     "name": "stdout",
     "output_type": "stream",
     "text": [
      "{'criterion': 'entropy', 'max_depth': 15, 'min_samples_leaf': 3}\n"
     ]
    }
   ],
   "source": [
    "# print(dt_grid.best_params_)"
   ]
  },
  {
   "cell_type": "code",
   "execution_count": 66,
   "id": "e65a98da",
   "metadata": {},
   "outputs": [
    {
     "name": "stdout",
     "output_type": "stream",
     "text": [
      "0.6887238352464551 0.7821911828895679 0.8090293453724605 0.7953839325343987\n"
     ]
    }
   ],
   "source": [
    "dt_tuned=DecisionTreeClassifier(\n",
    "    criterion='entropy',\n",
    "    max_depth=15,\n",
    "    min_samples_leaf=3).fit(train_X, train_y)\n",
    "\n",
    "ypred_dt1 = dt_tuned.predict(test_X)\n",
    "tn, fp, fn, tp = confusion_matrix(test_y, ypred_dt1).ravel()\n",
    "accuracy = (tn + tp)/(tn + fp + fn + tp)\n",
    "precision = tp / (tp + fp)\n",
    "recall = tp / (tp + fn)\n",
    "f1 = 2 * precision * recall / (precision + recall)\n",
    "print(accuracy, precision, recall, f1)"
   ]
  },
  {
   "cell_type": "code",
   "execution_count": 67,
   "id": "ff97c309",
   "metadata": {},
   "outputs": [
    {
     "data": {
      "text/html": [
       "<style>#sk-container-id-7 {color: black;background-color: white;}#sk-container-id-7 pre{padding: 0;}#sk-container-id-7 div.sk-toggleable {background-color: white;}#sk-container-id-7 label.sk-toggleable__label {cursor: pointer;display: block;width: 100%;margin-bottom: 0;padding: 0.3em;box-sizing: border-box;text-align: center;}#sk-container-id-7 label.sk-toggleable__label-arrow:before {content: \"▸\";float: left;margin-right: 0.25em;color: #696969;}#sk-container-id-7 label.sk-toggleable__label-arrow:hover:before {color: black;}#sk-container-id-7 div.sk-estimator:hover label.sk-toggleable__label-arrow:before {color: black;}#sk-container-id-7 div.sk-toggleable__content {max-height: 0;max-width: 0;overflow: hidden;text-align: left;background-color: #f0f8ff;}#sk-container-id-7 div.sk-toggleable__content pre {margin: 0.2em;color: black;border-radius: 0.25em;background-color: #f0f8ff;}#sk-container-id-7 input.sk-toggleable__control:checked~div.sk-toggleable__content {max-height: 200px;max-width: 100%;overflow: auto;}#sk-container-id-7 input.sk-toggleable__control:checked~label.sk-toggleable__label-arrow:before {content: \"▾\";}#sk-container-id-7 div.sk-estimator input.sk-toggleable__control:checked~label.sk-toggleable__label {background-color: #d4ebff;}#sk-container-id-7 div.sk-label input.sk-toggleable__control:checked~label.sk-toggleable__label {background-color: #d4ebff;}#sk-container-id-7 input.sk-hidden--visually {border: 0;clip: rect(1px 1px 1px 1px);clip: rect(1px, 1px, 1px, 1px);height: 1px;margin: -1px;overflow: hidden;padding: 0;position: absolute;width: 1px;}#sk-container-id-7 div.sk-estimator {font-family: monospace;background-color: #f0f8ff;border: 1px dotted black;border-radius: 0.25em;box-sizing: border-box;margin-bottom: 0.5em;}#sk-container-id-7 div.sk-estimator:hover {background-color: #d4ebff;}#sk-container-id-7 div.sk-parallel-item::after {content: \"\";width: 100%;border-bottom: 1px solid gray;flex-grow: 1;}#sk-container-id-7 div.sk-label:hover label.sk-toggleable__label {background-color: #d4ebff;}#sk-container-id-7 div.sk-serial::before {content: \"\";position: absolute;border-left: 1px solid gray;box-sizing: border-box;top: 0;bottom: 0;left: 50%;z-index: 0;}#sk-container-id-7 div.sk-serial {display: flex;flex-direction: column;align-items: center;background-color: white;padding-right: 0.2em;padding-left: 0.2em;position: relative;}#sk-container-id-7 div.sk-item {position: relative;z-index: 1;}#sk-container-id-7 div.sk-parallel {display: flex;align-items: stretch;justify-content: center;background-color: white;position: relative;}#sk-container-id-7 div.sk-item::before, #sk-container-id-7 div.sk-parallel-item::before {content: \"\";position: absolute;border-left: 1px solid gray;box-sizing: border-box;top: 0;bottom: 0;left: 50%;z-index: -1;}#sk-container-id-7 div.sk-parallel-item {display: flex;flex-direction: column;z-index: 1;position: relative;background-color: white;}#sk-container-id-7 div.sk-parallel-item:first-child::after {align-self: flex-end;width: 50%;}#sk-container-id-7 div.sk-parallel-item:last-child::after {align-self: flex-start;width: 50%;}#sk-container-id-7 div.sk-parallel-item:only-child::after {width: 0;}#sk-container-id-7 div.sk-dashed-wrapped {border: 1px dashed gray;margin: 0 0.4em 0.5em 0.4em;box-sizing: border-box;padding-bottom: 0.4em;background-color: white;}#sk-container-id-7 div.sk-label label {font-family: monospace;font-weight: bold;display: inline-block;line-height: 1.2em;}#sk-container-id-7 div.sk-label-container {text-align: center;}#sk-container-id-7 div.sk-container {/* jupyter's `normalize.less` sets `[hidden] { display: none; }` but bootstrap.min.css set `[hidden] { display: none !important; }` so we also need the `!important` here to be able to override the default hidden behavior on the sphinx rendered scikit-learn.org. See: https://github.com/scikit-learn/scikit-learn/issues/21755 */display: inline-block !important;position: relative;}#sk-container-id-7 div.sk-text-repr-fallback {display: none;}</style><div id=\"sk-container-id-7\" class=\"sk-top-container\"><div class=\"sk-text-repr-fallback\"><pre>Pipeline(steps=[(&#x27;tfidf&#x27;,\n",
       "                 TfidfVectorizer(stop_words=[&#x27;i&#x27;, &#x27;me&#x27;, &#x27;my&#x27;, &#x27;myself&#x27;, &#x27;we&#x27;,\n",
       "                                             &#x27;our&#x27;, &#x27;ours&#x27;, &#x27;ourselves&#x27;, &#x27;you&#x27;,\n",
       "                                             &quot;you&#x27;re&quot;, &quot;you&#x27;ve&quot;, &quot;you&#x27;ll&quot;,\n",
       "                                             &quot;you&#x27;d&quot;, &#x27;your&#x27;, &#x27;yours&#x27;,\n",
       "                                             &#x27;yourself&#x27;, &#x27;yourselves&#x27;, &#x27;he&#x27;,\n",
       "                                             &#x27;him&#x27;, &#x27;his&#x27;, &#x27;himself&#x27;, &#x27;she&#x27;,\n",
       "                                             &quot;she&#x27;s&quot;, &#x27;her&#x27;, &#x27;hers&#x27;, &#x27;herself&#x27;,\n",
       "                                             &#x27;it&#x27;, &quot;it&#x27;s&quot;, &#x27;its&#x27;, &#x27;itself&#x27;, ...])),\n",
       "                (&#x27;dt&#x27;,\n",
       "                 DecisionTreeClassifier(criterion=&#x27;entropy&#x27;, max_depth=15,\n",
       "                                        min_samples_leaf=3))])</pre><b>In a Jupyter environment, please rerun this cell to show the HTML representation or trust the notebook. <br />On GitHub, the HTML representation is unable to render, please try loading this page with nbviewer.org.</b></div><div class=\"sk-container\" hidden><div class=\"sk-item sk-dashed-wrapped\"><div class=\"sk-label-container\"><div class=\"sk-label sk-toggleable\"><input class=\"sk-toggleable__control sk-hidden--visually\" id=\"sk-estimator-id-19\" type=\"checkbox\" ><label for=\"sk-estimator-id-19\" class=\"sk-toggleable__label sk-toggleable__label-arrow\">Pipeline</label><div class=\"sk-toggleable__content\"><pre>Pipeline(steps=[(&#x27;tfidf&#x27;,\n",
       "                 TfidfVectorizer(stop_words=[&#x27;i&#x27;, &#x27;me&#x27;, &#x27;my&#x27;, &#x27;myself&#x27;, &#x27;we&#x27;,\n",
       "                                             &#x27;our&#x27;, &#x27;ours&#x27;, &#x27;ourselves&#x27;, &#x27;you&#x27;,\n",
       "                                             &quot;you&#x27;re&quot;, &quot;you&#x27;ve&quot;, &quot;you&#x27;ll&quot;,\n",
       "                                             &quot;you&#x27;d&quot;, &#x27;your&#x27;, &#x27;yours&#x27;,\n",
       "                                             &#x27;yourself&#x27;, &#x27;yourselves&#x27;, &#x27;he&#x27;,\n",
       "                                             &#x27;him&#x27;, &#x27;his&#x27;, &#x27;himself&#x27;, &#x27;she&#x27;,\n",
       "                                             &quot;she&#x27;s&quot;, &#x27;her&#x27;, &#x27;hers&#x27;, &#x27;herself&#x27;,\n",
       "                                             &#x27;it&#x27;, &quot;it&#x27;s&quot;, &#x27;its&#x27;, &#x27;itself&#x27;, ...])),\n",
       "                (&#x27;dt&#x27;,\n",
       "                 DecisionTreeClassifier(criterion=&#x27;entropy&#x27;, max_depth=15,\n",
       "                                        min_samples_leaf=3))])</pre></div></div></div><div class=\"sk-serial\"><div class=\"sk-item\"><div class=\"sk-estimator sk-toggleable\"><input class=\"sk-toggleable__control sk-hidden--visually\" id=\"sk-estimator-id-20\" type=\"checkbox\" ><label for=\"sk-estimator-id-20\" class=\"sk-toggleable__label sk-toggleable__label-arrow\">TfidfVectorizer</label><div class=\"sk-toggleable__content\"><pre>TfidfVectorizer(stop_words=[&#x27;i&#x27;, &#x27;me&#x27;, &#x27;my&#x27;, &#x27;myself&#x27;, &#x27;we&#x27;, &#x27;our&#x27;, &#x27;ours&#x27;,\n",
       "                            &#x27;ourselves&#x27;, &#x27;you&#x27;, &quot;you&#x27;re&quot;, &quot;you&#x27;ve&quot;, &quot;you&#x27;ll&quot;,\n",
       "                            &quot;you&#x27;d&quot;, &#x27;your&#x27;, &#x27;yours&#x27;, &#x27;yourself&#x27;, &#x27;yourselves&#x27;,\n",
       "                            &#x27;he&#x27;, &#x27;him&#x27;, &#x27;his&#x27;, &#x27;himself&#x27;, &#x27;she&#x27;, &quot;she&#x27;s&quot;,\n",
       "                            &#x27;her&#x27;, &#x27;hers&#x27;, &#x27;herself&#x27;, &#x27;it&#x27;, &quot;it&#x27;s&quot;, &#x27;its&#x27;,\n",
       "                            &#x27;itself&#x27;, ...])</pre></div></div></div><div class=\"sk-item\"><div class=\"sk-estimator sk-toggleable\"><input class=\"sk-toggleable__control sk-hidden--visually\" id=\"sk-estimator-id-21\" type=\"checkbox\" ><label for=\"sk-estimator-id-21\" class=\"sk-toggleable__label sk-toggleable__label-arrow\">DecisionTreeClassifier</label><div class=\"sk-toggleable__content\"><pre>DecisionTreeClassifier(criterion=&#x27;entropy&#x27;, max_depth=15, min_samples_leaf=3)</pre></div></div></div></div></div></div></div>"
      ],
      "text/plain": [
       "Pipeline(steps=[('tfidf',\n",
       "                 TfidfVectorizer(stop_words=['i', 'me', 'my', 'myself', 'we',\n",
       "                                             'our', 'ours', 'ourselves', 'you',\n",
       "                                             \"you're\", \"you've\", \"you'll\",\n",
       "                                             \"you'd\", 'your', 'yours',\n",
       "                                             'yourself', 'yourselves', 'he',\n",
       "                                             'him', 'his', 'himself', 'she',\n",
       "                                             \"she's\", 'her', 'hers', 'herself',\n",
       "                                             'it', \"it's\", 'its', 'itself', ...])),\n",
       "                ('dt',\n",
       "                 DecisionTreeClassifier(criterion='entropy', max_depth=15,\n",
       "                                        min_samples_leaf=3))])"
      ]
     },
     "execution_count": 67,
     "metadata": {},
     "output_type": "execute_result"
    }
   ],
   "source": [
    "pipe_dt = Pipeline([\n",
    "    ('tfidf', TfidfVectorizer(stop_words = stopword)),\n",
    "    ('dt', DecisionTreeClassifier(criterion='entropy', max_depth=15, min_samples_leaf=3))])\n",
    "pipe_dt.fit(train_X1, train_y)"
   ]
  },
  {
   "cell_type": "code",
   "execution_count": 68,
   "id": "35aa5dc5",
   "metadata": {},
   "outputs": [
    {
     "name": "stdout",
     "output_type": "stream",
     "text": [
      "0.7390276839972991 0.781640625 0.9033860045146727 0.8381151832460733\n"
     ]
    }
   ],
   "source": [
    "ypred_dt2 = pipe_dt.predict(test_X1)\n",
    "tn, fp, fn, tp = confusion_matrix(test_y, ypred_dt2).ravel()\n",
    "accuracy = (tn + tp)/(tn + fp + fn + tp)\n",
    "precision = tp / (tp + fp)\n",
    "recall = tp / (tp + fn)\n",
    "f1 = 2 * precision * recall / (precision + recall)\n",
    "print(accuracy, precision, recall, f1)"
   ]
  },
  {
   "cell_type": "code",
   "execution_count": null,
   "id": "17fe8413",
   "metadata": {},
   "outputs": [],
   "source": []
  }
 ],
 "metadata": {
  "kernelspec": {
   "display_name": "Python 3 (ipykernel)",
   "language": "python",
   "name": "python3"
  },
  "language_info": {
   "codemirror_mode": {
    "name": "ipython",
    "version": 3
   },
   "file_extension": ".py",
   "mimetype": "text/x-python",
   "name": "python",
   "nbconvert_exporter": "python",
   "pygments_lexer": "ipython3",
   "version": "3.9.13"
  }
 },
 "nbformat": 4,
 "nbformat_minor": 5
}
